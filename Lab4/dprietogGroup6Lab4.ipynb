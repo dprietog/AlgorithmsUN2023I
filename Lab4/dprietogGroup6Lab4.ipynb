{
  "nbformat": 4,
  "nbformat_minor": 0,
  "metadata": {
    "colab": {
      "provenance": [],
      "include_colab_link": true
    },
    "kernelspec": {
      "name": "python3",
      "display_name": "Python 3"
    },
    "language_info": {
      "name": "python"
    }
  },
  "cells": [
    {
      "cell_type": "markdown",
      "metadata": {
        "id": "view-in-github",
        "colab_type": "text"
      },
      "source": [
        "<a href=\"https://colab.research.google.com/github/dprietog/AlgorithmsUN2023I/blob/main/Lab4/dprietogGroup6Lab4.ipynb\" target=\"_parent\"><img src=\"https://colab.research.google.com/assets/colab-badge.svg\" alt=\"Open In Colab\"/></a>"
      ]
    },
    {
      "cell_type": "markdown",
      "metadata": {
        "id": "N1ok_-56OjB1"
      },
      "source": [
        "# I Solving the Sum of Two Digits Programming Challenge"
      ]
    },
    {
      "cell_type": "markdown",
      "metadata": {
        "id": "MMY7kmDSO0KM"
      },
      "source": [
        "## C++"
      ]
    },
    {
      "cell_type": "code",
      "metadata": {
        "colab": {
          "base_uri": "https://localhost:8080/"
        },
        "id": "2pGGf9BkPNIk",
        "outputId": "8dbef20b-f87d-4470-e6ae-cc2d76d68d7f"
      },
      "source": [
        "%%writefile APlusB.cpp\n",
        "#include <iostream>\n",
        "using namespace std;\n",
        "\n",
        "int sum_of_two_digits(int first_digit, int second_digit) {\n",
        "    return first_digit + second_digit;\n",
        "}\n",
        "\n",
        "int main() {\n",
        "    int a = 0;\n",
        "    int b = 0;\n",
        "    cin >> a;\n",
        "    cin >> b;\n",
        "    cout << sum_of_two_digits(a, b);\n",
        "    return 0;\n",
        "}"
      ],
      "execution_count": 1,
      "outputs": [
        {
          "output_type": "stream",
          "name": "stdout",
          "text": [
            "Writing APlusB.cpp\n"
          ]
        }
      ]
    },
    {
      "cell_type": "code",
      "metadata": {
        "colab": {
          "base_uri": "https://localhost:8080/"
        },
        "id": "0G3ZKOYAPXSU",
        "outputId": "2b784e51-293f-4826-b696-c4dd06eab9d3"
      },
      "source": [
        "!g++ APlusB.cpp -o APlusB\n",
        "!./APlusB"
      ],
      "execution_count": 18,
      "outputs": [
        {
          "output_type": "stream",
          "name": "stdout",
          "text": [
            "\n",
            "\n",
            "8989 6565\n",
            "15554"
          ]
        }
      ]
    },
    {
      "cell_type": "markdown",
      "metadata": {
        "id": "iNkG2HqfTl9c"
      },
      "source": [
        "### Test input output files"
      ]
    },
    {
      "cell_type": "code",
      "metadata": {
        "colab": {
          "base_uri": "https://localhost:8080/"
        },
        "id": "aTzU2efzMxly",
        "outputId": "0fe3ae20-9086-49f0-c22b-2980aef37935"
      },
      "source": [
        "%%writefile input1.txt\n",
        "3 23"
      ],
      "execution_count": 3,
      "outputs": [
        {
          "output_type": "stream",
          "name": "stdout",
          "text": [
            "Writing input1.txt\n"
          ]
        }
      ]
    },
    {
      "cell_type": "markdown",
      "metadata": {
        "id": "pdkfsvs-T0Wr"
      },
      "source": []
    },
    {
      "cell_type": "code",
      "metadata": {
        "colab": {
          "base_uri": "https://localhost:8080/"
        },
        "id": "zBJ0Gc0NQRet",
        "outputId": "b22b1cf9-e0fa-43cc-a1d6-54eb5348e8fe"
      },
      "source": [
        "%%writefile output1.txt\n",
        "26"
      ],
      "execution_count": 4,
      "outputs": [
        {
          "output_type": "stream",
          "name": "stdout",
          "text": [
            "Writing output1.txt\n"
          ]
        }
      ]
    },
    {
      "cell_type": "code",
      "metadata": {
        "colab": {
          "base_uri": "https://localhost:8080/"
        },
        "id": "IjEcIx63PJAN",
        "outputId": "aca4bc84-1cd2-4893-be8d-faf69691041f"
      },
      "source": [
        "%%writefile input2.txt\n",
        "-8 3"
      ],
      "execution_count": 5,
      "outputs": [
        {
          "output_type": "stream",
          "name": "stdout",
          "text": [
            "Writing input2.txt\n"
          ]
        }
      ]
    },
    {
      "cell_type": "code",
      "metadata": {
        "colab": {
          "base_uri": "https://localhost:8080/"
        },
        "id": "Up9gOrxURTmd",
        "outputId": "3151f2db-7d3a-45bb-960e-0b44e700ccd3"
      },
      "source": [
        "%%writefile output2.txt\n",
        "7"
      ],
      "execution_count": 6,
      "outputs": [
        {
          "output_type": "stream",
          "name": "stdout",
          "text": [
            "Writing output2.txt\n"
          ]
        }
      ]
    },
    {
      "cell_type": "code",
      "metadata": {
        "colab": {
          "base_uri": "https://localhost:8080/"
        },
        "id": "PST6G-s-Pwgc",
        "outputId": "16ede5ca-c841-486c-af4c-7c584d0995da"
      },
      "source": [
        "!./APlusB < input1.txt"
      ],
      "execution_count": 7,
      "outputs": [
        {
          "output_type": "stream",
          "name": "stdout",
          "text": [
            "26"
          ]
        }
      ]
    },
    {
      "cell_type": "code",
      "metadata": {
        "colab": {
          "base_uri": "https://localhost:8080/"
        },
        "id": "cKxZOjSlRfIN",
        "outputId": "e07171d0-870e-4913-a7a0-6b08e8bc47fb"
      },
      "source": [
        "!./APlusB < input2.txt"
      ],
      "execution_count": 8,
      "outputs": [
        {
          "output_type": "stream",
          "name": "stdout",
          "text": [
            "-5"
          ]
        }
      ]
    },
    {
      "cell_type": "markdown",
      "metadata": {
        "id": "Qw2TQWCCUwqk"
      },
      "source": [
        "### Comparing files with grep\n",
        "\n",
        "https://askubuntu.com/questions/546796/comparing-two-text-files"
      ]
    },
    {
      "cell_type": "code",
      "metadata": {
        "id": "WVIaAmMKU4QM"
      },
      "source": [
        "!grep -xvFf output1.txt output1.txt "
      ],
      "execution_count": 9,
      "outputs": []
    },
    {
      "cell_type": "code",
      "metadata": {
        "colab": {
          "base_uri": "https://localhost:8080/"
        },
        "id": "MQU8gPPjQuYO",
        "outputId": "cd1b4109-c809-4d7a-9802-312f1431672a"
      },
      "source": [
        "!grep -xvFf output1.txt output2.txt "
      ],
      "execution_count": 10,
      "outputs": [
        {
          "output_type": "stream",
          "name": "stdout",
          "text": [
            "7\n"
          ]
        }
      ]
    },
    {
      "cell_type": "code",
      "metadata": {
        "colab": {
          "base_uri": "https://localhost:8080/"
        },
        "id": "jYL9OuYBTD_l",
        "outputId": "516571db-2a5b-4288-cd87-645d6d5498cd"
      },
      "source": [
        "!grep -xvFf output2.txt output1.txt "
      ],
      "execution_count": 11,
      "outputs": [
        {
          "output_type": "stream",
          "name": "stdout",
          "text": [
            "26\n"
          ]
        }
      ]
    },
    {
      "cell_type": "code",
      "metadata": {
        "id": "Jlja0Xm4TX9M"
      },
      "source": [
        "!./APlusB < input1.txt> ctest1.txt\n",
        "!grep -xvFf output1.txt ctest1.txt"
      ],
      "execution_count": 12,
      "outputs": []
    },
    {
      "cell_type": "code",
      "metadata": {
        "id": "g9OIUZA_QLCQ",
        "colab": {
          "base_uri": "https://localhost:8080/"
        },
        "outputId": "260ffb32-b849-4d9d-c1a9-fd0bac453084"
      },
      "source": [
        "!./APlusB < input2.txt > ctest2.txt\n",
        "!grep -xvFf output2.txt ctest2.txt"
      ],
      "execution_count": 13,
      "outputs": [
        {
          "output_type": "stream",
          "name": "stdout",
          "text": [
            "-5\n"
          ]
        }
      ]
    },
    {
      "cell_type": "markdown",
      "metadata": {
        "id": "3BgOaDjUVJk6"
      },
      "source": [
        "## Python"
      ]
    },
    {
      "cell_type": "code",
      "metadata": {
        "colab": {
          "base_uri": "https://localhost:8080/"
        },
        "id": "DBvl-T0CTN_8",
        "outputId": "f433a07e-ad06-4c89-bc8b-e4d957a31d3f"
      },
      "source": [
        "%%writefile sum.py\n",
        "# python3\n",
        "\n",
        "def sum_of_two_digits(first_digit, second_digit):\n",
        "    return first_digit + second_digit\n",
        "\n",
        "if __name__ == '__main__':\n",
        "    a, b = map(int, input().split())\n",
        "    print(sum_of_two_digits(a, b))"
      ],
      "execution_count": 14,
      "outputs": [
        {
          "output_type": "stream",
          "name": "stdout",
          "text": [
            "Writing sum.py\n"
          ]
        }
      ]
    },
    {
      "cell_type": "code",
      "metadata": {
        "colab": {
          "base_uri": "https://localhost:8080/"
        },
        "id": "QKoKM11_WGyF",
        "outputId": "1cb0f2c4-40ea-4dd3-cc60-887f2b604c51"
      },
      "source": [
        "!python sum.py"
      ],
      "execution_count": 17,
      "outputs": [
        {
          "output_type": "stream",
          "name": "stdout",
          "text": [
            "5 8\n",
            "13\n"
          ]
        }
      ]
    },
    {
      "cell_type": "code",
      "metadata": {
        "id": "cocFbPRTWrqt"
      },
      "source": [
        "!python sum.py  < input1.txt> ptest1.txt\n",
        "!grep -xvFf output1.txt ptest1.txt"
      ],
      "execution_count": 16,
      "outputs": []
    },
    {
      "cell_type": "code",
      "metadata": {
        "id": "MorKTa-XXASN",
        "colab": {
          "base_uri": "https://localhost:8080/"
        },
        "outputId": "50da3c6b-7a8b-4225-d80c-373abf2ce786"
      },
      "source": [
        "!python sum.py  < input2.txt> ptest2.txt\n",
        "!grep -xvFf output2.txt ptest2.txt"
      ],
      "execution_count": 19,
      "outputs": [
        {
          "output_type": "stream",
          "name": "stdout",
          "text": [
            "\n",
            "-5\n"
          ]
        }
      ]
    },
    {
      "cell_type": "markdown",
      "metadata": {
        "id": "uvP-mOubW_5F"
      },
      "source": [
        "# II Solving The Maximum Pairwise Product Programming Challenge in C++"
      ]
    },
    {
      "cell_type": "markdown",
      "metadata": {
        "id": "C12yoFR6Xonl"
      },
      "source": [
        "## C++"
      ]
    },
    {
      "cell_type": "code",
      "metadata": {
        "colab": {
          "base_uri": "https://localhost:8080/"
        },
        "id": "YL4qJX3tXxdd",
        "outputId": "8d8d09c4-d747-4f37-82f6-847196f85f1a"
      },
      "source": [
        "%%writefile max_pairwise_product.cpp\n",
        "#include <iostream>\n",
        "#include <vector>\n",
        "#include <algorithm>\n",
        "using namespace std;\n",
        "\n",
        "int MaxPairwiseProduct(const vector<int>& numbers) {\n",
        "    int max_product = 0;\n",
        "    int n = numbers.size();\n",
        "\n",
        "    for (int first = 0; first < n; ++first) {\n",
        "        for (int second = first + 1; second < n; ++second) {\n",
        "            max_product = max(max_product, numbers[first] * numbers[second]);\n",
        "        }\n",
        "    }\n",
        "\n",
        "    return max_product;\n",
        "}\n",
        "\n",
        "int main() {\n",
        "    int n;\n",
        "    cin >> n;\n",
        "    vector<int> numbers(n);\n",
        "    for (int i = 0; i < n; ++i) {\n",
        "        cin >> numbers[i];\n",
        "    }\n",
        "\n",
        "    cout << \"\\n\" << MaxPairwiseProduct(numbers) << \"\\n\";\n",
        "    return 0;\n",
        "}\n"
      ],
      "execution_count": 20,
      "outputs": [
        {
          "output_type": "stream",
          "name": "stdout",
          "text": [
            "Writing max_pairwise_product.cpp\n"
          ]
        }
      ]
    },
    {
      "cell_type": "code",
      "metadata": {
        "colab": {
          "base_uri": "https://localhost:8080/"
        },
        "id": "KGxaEjvWX__O",
        "outputId": "e6602a26-5af0-4873-ded8-87b0b7c8b1a4"
      },
      "source": [
        "!g++ max_pairwise_product.cpp -o max_pairwise_product\n",
        "!./max_pairwise_product"
      ],
      "execution_count": 21,
      "outputs": [
        {
          "output_type": "stream",
          "name": "stdout",
          "text": [
            "5\n",
            "45 48 69 2222 5\n",
            "\n",
            "153318\n"
          ]
        }
      ]
    },
    {
      "cell_type": "markdown",
      "metadata": {
        "id": "e7KhxHGNS3i0"
      },
      "source": [
        "### Test 1: Small numbers"
      ]
    },
    {
      "cell_type": "code",
      "metadata": {
        "colab": {
          "base_uri": "https://localhost:8080/"
        },
        "id": "e1mmTzBgShT-",
        "outputId": "78451a7d-7165-49aa-eaf9-60f2431a4cd0"
      },
      "source": [
        "%%writefile input1.txt\n",
        "10\n",
        "1 2 3 4 5 6 7 8 9 10"
      ],
      "execution_count": 22,
      "outputs": [
        {
          "output_type": "stream",
          "name": "stdout",
          "text": [
            "Overwriting input1.txt\n"
          ]
        }
      ]
    },
    {
      "cell_type": "code",
      "metadata": {
        "colab": {
          "base_uri": "https://localhost:8080/"
        },
        "id": "vy_uI0x7TCId",
        "outputId": "db6a379a-8995-4eaa-8fa7-7800f25314dd"
      },
      "source": [
        "!./max_pairwise_product < input1.txt"
      ],
      "execution_count": 23,
      "outputs": [
        {
          "output_type": "stream",
          "name": "stdout",
          "text": [
            "\n",
            "90\n"
          ]
        }
      ]
    },
    {
      "cell_type": "markdown",
      "metadata": {
        "id": "IeZ3kTjpYmR9"
      },
      "source": [
        "### Test 2: largest input numbers 200000 200000 in the input"
      ]
    },
    {
      "cell_type": "code",
      "metadata": {
        "colab": {
          "base_uri": "https://localhost:8080/"
        },
        "id": "LQNlZqaqYt7U",
        "outputId": "cb897c07-f6e9-478f-dcb2-ee3fb26660a8"
      },
      "source": [
        "%%writefile input2.txt\n",
        "6\n",
        "1 3 200000 9 200000 23"
      ],
      "execution_count": 24,
      "outputs": [
        {
          "output_type": "stream",
          "name": "stdout",
          "text": [
            "Overwriting input2.txt\n"
          ]
        }
      ]
    },
    {
      "cell_type": "code",
      "metadata": {
        "colab": {
          "base_uri": "https://localhost:8080/"
        },
        "id": "2Wad2VZUZDxR",
        "outputId": "5d8338a6-7f4b-4464-f35e-1994ea9993a9"
      },
      "source": [
        "!./max_pairwise_product < input2.txt"
      ],
      "execution_count": 25,
      "outputs": [
        {
          "output_type": "stream",
          "name": "stdout",
          "text": [
            "\n",
            "1345294336\n"
          ]
        }
      ]
    },
    {
      "cell_type": "markdown",
      "metadata": {
        "id": "H2SC0Qt5HCzz"
      },
      "source": [
        "Changing the variables to long long"
      ]
    },
    {
      "cell_type": "code",
      "metadata": {
        "colab": {
          "base_uri": "https://localhost:8080/"
        },
        "id": "MPcmsxiQZSfE",
        "outputId": "6728faf5-1fe0-4101-bfc1-0060beb71478"
      },
      "source": [
        "%%writefile max_pairwise_product_long.cpp\n",
        "#include <iostream>\n",
        "#include <vector>\n",
        "#include <algorithm>\n",
        "using namespace std;\n",
        "\n",
        "long long MaxPairwiseProduct(const vector<int>& numbers) {\n",
        "    long long max_product = 0LL;\n",
        "\t  long long aux_product = 0LL;\n",
        "    int n = numbers.size();\n",
        "\n",
        "    for (int first = 0; first < n; ++first) {\n",
        "        for (int second = first + 1; second < n; ++second) {\n",
        "\t\t\t       aux_product =  (long long) numbers[first] * numbers[second];\n",
        "            if ( max_product < aux_product)  {\n",
        "\t\t\t\t        max_product = aux_product;\n",
        "             }\n",
        "        }\n",
        "    }\n",
        "\n",
        "    return max_product;\n",
        "}\n",
        "\n",
        "int main() {\n",
        "    int n;\n",
        "    cin >> n;\n",
        "    vector<int> numbers(n);\n",
        "    for (int i = 0; i < n; ++i) {\n",
        "        cin >> numbers[i];\n",
        "    }\n",
        "\n",
        "    cout << MaxPairwiseProduct(numbers) << \"\\n\";\n",
        "    return 0;\n",
        "}\n"
      ],
      "execution_count": 26,
      "outputs": [
        {
          "output_type": "stream",
          "name": "stdout",
          "text": [
            "Writing max_pairwise_product_long.cpp\n"
          ]
        }
      ]
    },
    {
      "cell_type": "code",
      "metadata": {
        "colab": {
          "base_uri": "https://localhost:8080/"
        },
        "id": "I5pCeOG1Zm7s",
        "outputId": "d0be7a35-932d-4d06-ae8f-baf53c9176f5"
      },
      "source": [
        "!g++ max_pairwise_product_long.cpp -o max_pairwise_product_long\n",
        "!./max_pairwise_product_long < input1.txt\n",
        "!./max_pairwise_product_long < input2.txt"
      ],
      "execution_count": 27,
      "outputs": [
        {
          "output_type": "stream",
          "name": "stdout",
          "text": [
            "90\n",
            "40000000000\n"
          ]
        }
      ]
    },
    {
      "cell_type": "markdown",
      "metadata": {
        "id": "XPVHkHxH6_7s"
      },
      "source": [
        "### Test 3  stress tests 20  times  random n in [2, 20] "
      ]
    },
    {
      "cell_type": "code",
      "metadata": {
        "id": "PwqpBmYr69fu",
        "colab": {
          "base_uri": "https://localhost:8080/"
        },
        "outputId": "4c230a45-39d6-49ce-9f82-acbcb18f9836"
      },
      "source": [
        "%%writefile max_pairwise_product_long_test3.cpp\n",
        "#include <iostream>\n",
        "#include <vector>\n",
        "#include <algorithm>\n",
        "#include <climits>\n",
        "using namespace std;\n",
        "\n",
        "long long MaxPairwiseProduct(const vector<int>& numbers) {\n",
        "    long long max_product = 0LL;\n",
        "\t  long long aux_product = 0LL;\n",
        "    int n = numbers.size();\n",
        "\n",
        "    for (int first = 0; first < n; ++first) {\n",
        "        for (int second = first + 1; second < n; ++second) {\n",
        "\t\t\t       aux_product =  (long long) numbers[first] * numbers[second];\n",
        "            if ( max_product < aux_product)  {\n",
        "\t\t\t\t        max_product = aux_product;\n",
        "             }\n",
        "        }\n",
        "    }\n",
        "\n",
        "    return max_product;\n",
        "}\n",
        "\n",
        "int main() {\n",
        "    srand(time(NULL));\n",
        "    \n",
        "    for(int i = 0; i < 20; i++){\n",
        "      int n = rand() % 19 + 2;\n",
        "      vector<int> nums(n);\n",
        "\n",
        "      for(int j = 0; j < n; j++){\n",
        "        nums[j] = rand() % LLONG_MAX + 1;\n",
        "      }\n",
        "\n",
        "      cout << \"Test \" << i << \": \";\n",
        "      for(int j = 0; j < n; j++){\n",
        "        cout << nums[j] << \" \";\n",
        "      }\n",
        "\n",
        "      cout << \"\\n\" << \"Maximum pairwise product is: \" << MaxPairwiseProduct(nums) << endl;\n",
        "\n",
        "    }\n",
        "    return 0;\n",
        "}"
      ],
      "execution_count": 28,
      "outputs": [
        {
          "output_type": "stream",
          "name": "stdout",
          "text": [
            "Writing max_pairwise_product_long_test3.cpp\n"
          ]
        }
      ]
    },
    {
      "cell_type": "code",
      "source": [
        "!g++ max_pairwise_product_long_test3.cpp -o max_pairwise_product_long_test3\n",
        "!./max_pairwise_product_long_test3"
      ],
      "metadata": {
        "colab": {
          "base_uri": "https://localhost:8080/"
        },
        "id": "y59ZxnIWsBUg",
        "outputId": "96238eda-0ee9-462d-bb9b-2ef6605cccd9"
      },
      "execution_count": 29,
      "outputs": [
        {
          "output_type": "stream",
          "name": "stdout",
          "text": [
            "Test 0: 496984427 566346184 48147508 2101711069 1755084220 2071428632 2011866101 486722092 1189685025 1994340068 234982021 30935150 977392401 1856792251 1589302704 700859853 1395384351 1522986981 \n",
            "Maximum pairwise product is: 4353544484517927608\n",
            "Test 1: 1059962029 1338590300 1329634627 \n",
            "Maximum pairwise product is: 1779836014246318100\n",
            "Test 2: 505068201 1583572457 1805153912 940734980 675051667 2147466876 \n",
            "Maximum pairwise product is: 3876508232101818912\n",
            "Test 3: 1689746323 496967654 1106876410 1737893830 451195074 714476981 \n",
            "Maximum pairwise product is: 2936599709006887090\n",
            "Test 4: 315577526 1201199072 704040190 162433945 1436181092 734975339 1139826345 1145489694 176794394 1840686197 393390396 1699781374 1924743358 1453352425 \n",
            "Maximum pairwise product is: 3542848531838029526\n",
            "Test 5: 1106894336 602876820 1395956225 542983144 260547084 189207556 1218034810 260530311 729737782 \n",
            "Maximum pairwise product is: 1700323275286192250\n",
            "Test 6: 757497964 1836614191 \n",
            "Maximum pairwise product is: 1391231510336007124\n",
            "Test 7: 1208693037 403607523 2012546478 1524270562 \n",
            "Maximum pairwise product is: 3067665351072180636\n",
            "Test 8: 569103019 1686704507 893504038 1304078357 679047203 2038993731 1480872750 372249752 284900479 1033170475 149509461 1738252903 1924058500 1256403796 193646074 1172531076 1799386939 454193157 1361738632 \n",
            "Maximum pairwise product is: 3923143219577263500\n",
            "Test 9: 714723467 2091476413 1630235584 1472221430 1780606955 1980943248 533430818 36730829 1846006077 2057701380 1641537422 267625447 1596922238 387557811 1571703803 128485792 \n",
            "Maximum pairwise product is: 4303633901267549940\n",
            "Test 10: 905092904 500735543 563968372 1938263379 650245003 154737626 1714838230 1906648798 348383699 739885657 1558552088 802576856 2101624288 281006540 1517300322 2045617052 1911242123 842038104 \n",
            "Maximum pairwise product is: 4299118480430158976\n",
            "Test 11: 1744701722 1375468921 1715471186 1443224151 1285686652 1209524960 1710849597 735125241 1597082770 1135069752 863611033 1876150663 2040162655 1364346575 \n",
            "Maximum pairwise product is: 3827652517806090265\n",
            "Test 12: 1830942385 2014591578 447373011 1398296966 1773756727 795756710 2138182623 1184825167 1598333565 \n",
            "Maximum pairwise product is: 4307564704521749094\n",
            "Test 13: 1465831706 968150238 1990456666 1229590180 1810188341 1521713375 826808253 1038173614 1089700913 122548755 176376617 151742224 1833398352 911501858 1748824993 820984455 1775112890 1477492008 713663461 \n",
            "Maximum pairwise product is: 3649299971171814432\n",
            "Test 14: 1770127393 397122198 859083745 70016756 1795419163 485356824 865773465 1786118137 1670181990 316623381 \n",
            "Maximum pairwise product is: 3206830730551659331\n",
            "Test 15: 988530047 1284773618 1573930768 70636578 947478311 948160494 897444830 1985651924 2037861406 1019993585 14544892 \n",
            "Maximum pairwise product is: 4046483421669245144\n",
            "Test 16: 705908288 926046749 1790944974 \n",
            "Maximum pairwise product is: 1658498770810589526\n",
            "Test 17: 553675990 1120953333 93072554 1545651806 743597077 490194751 257251902 813613832 138130266 742608725 1679387296 1924248402 265307066 1996010676 1507722504 1253837112 1133300646 934169623 \n",
            "Maximum pairwise product is: 3840820353667939752\n",
            "Test 18: 2080778956 1882330117 74434871 1918947231 1772707874 1094428455 1933492122 1814827855 1800336742 712055223 1458289180 \n",
            "Maximum pairwise product is: 4023169719049384632\n",
            "Test 19: 1265731212 431758864 \n",
            "Maximum pairwise product is: 546490670222463168\n"
          ]
        }
      ]
    },
    {
      "cell_type": "markdown",
      "metadata": {
        "id": "9z9yr5QkeyJF"
      },
      "source": [
        "### Test 4  time test  measure the execution time running with the the largest worst case file (200000 increasing numbers, 200000 and 200000 the end) "
      ]
    },
    {
      "cell_type": "code",
      "metadata": {
        "id": "oLiMjbAIfPlX",
        "colab": {
          "base_uri": "https://localhost:8080/"
        },
        "outputId": "fabea196-4d4b-4679-cb9f-e683dd9784be"
      },
      "source": [
        "%%writefile Test2Write.cpp\n",
        "#include <iostream>\n",
        "#include <fstream>\n",
        "#include <cstdlib>\n",
        "\n",
        "using namespace std;\n",
        "\n",
        "int main() {\n",
        "  // Create and open a text file\n",
        "  ofstream MyFile(\"input3.txt\");\n",
        "\n",
        " MyFile << 200000 <<\"\\n\";  // n \n",
        " for (int i=1; i < 200001; i++){\n",
        "     MyFile << i <<\" \";\n",
        " }\n",
        "  \n",
        "  // Close the file\n",
        "  MyFile.close();\n",
        "}"
      ],
      "execution_count": 30,
      "outputs": [
        {
          "output_type": "stream",
          "name": "stdout",
          "text": [
            "Writing Test2Write.cpp\n"
          ]
        }
      ]
    },
    {
      "cell_type": "code",
      "metadata": {
        "id": "EH25TkOkZfD9"
      },
      "source": [
        "!g++ Test2Write.cpp -o Test2Write\n",
        "!./Test2Write"
      ],
      "execution_count": 31,
      "outputs": []
    },
    {
      "cell_type": "markdown",
      "metadata": {
        "id": "JB6f03qO-lj9"
      },
      "source": [
        "Measure time\n",
        "\n",
        "https://askubuntu.com/questions/53444/how-can-i-measure-the-execution-time-of-a-terminal-process"
      ]
    },
    {
      "cell_type": "code",
      "metadata": {
        "id": "6p2QLEr576zk"
      },
      "source": [
        "!g++ max_pairwise_product_long.cpp -o max_pairwise_product_long\n",
        "!time ./max_pairwise_product_long < input3.txt"
      ],
      "execution_count": null,
      "outputs": []
    },
    {
      "cell_type": "markdown",
      "metadata": {
        "id": "AmZeB2wYjxy5"
      },
      "source": [
        "##### Calculate  the number of instructions executed by the algorithm as a function of n, add in each line a comment with the number of instructions that are executed in that line \n",
        "\n",
        "```cpp\n",
        " int main() {                         //N inst exec by line executed  \n",
        "   \n",
        "    int n;                            //1                      \n",
        "    std::cin >> n;                    //1\n",
        "                                              \n",
        "    std::vector<int> numbers(n);      //n    init vector\n",
        "    .\n",
        "    .\n",
        " }\n",
        "\n",
        "```"
      ]
    },
    {
      "cell_type": "code",
      "metadata": {
        "colab": {
          "base_uri": "https://localhost:8080/"
        },
        "id": "djGX3FL13g9b",
        "outputId": "612a5017-222f-48d1-bb4b-f820d9d33d5c"
      },
      "source": [
        "%%writefile test_init_vectors.cpp\n",
        "#include <iostream>\n",
        "#include <vector>\n",
        "#include <algorithm>\n",
        "using namespace std;\n",
        "\n",
        "int main() {                                                               \n",
        "    int n = 10;                                                                                                                            //1\n",
        "    vector<int> numbers(n);                                            \n",
        "    for (int i = 0; i < n; ++i) {                                           \n",
        "        cout << numbers[i];                                             \n",
        "    }\n",
        "\n",
        "    cout << \"\\n\";                       \n",
        "    return 0;                                                              \n",
        "}  "
      ],
      "execution_count": 34,
      "outputs": [
        {
          "output_type": "stream",
          "name": "stdout",
          "text": [
            "Writing test_init_vectors.cpp\n"
          ]
        }
      ]
    },
    {
      "cell_type": "code",
      "metadata": {
        "colab": {
          "base_uri": "https://localhost:8080/"
        },
        "id": "44gZcuE237-1",
        "outputId": "6220c0a8-41b0-4da6-a2ea-7f4413c1a7cb"
      },
      "source": [
        "!g++ test_init_vectors.cpp -o test_init_vectors\n",
        "!./test_init_vectors"
      ],
      "execution_count": 35,
      "outputs": [
        {
          "output_type": "stream",
          "name": "stdout",
          "text": [
            "0000000000\n"
          ]
        }
      ]
    },
    {
      "cell_type": "code",
      "metadata": {
        "colab": {
          "base_uri": "https://localhost:8080/"
        },
        "id": "uG6Mv-Pwlkii",
        "outputId": "cdb5b458-a7b8-48b0-bc0a-69f5499cf744"
      },
      "source": [
        "%%writefile max_pairwise_product_long.cpp\n",
        "#include <iostream>\n",
        "#include <vector>\n",
        "#include <algorithm>\n",
        "using namespace std;\n",
        "\n",
        "long long MaxPairwiseProduct(const vector<int>& numbers) {                   //N inst exec by line executed \n",
        "    long long max_product = 0LL;                                             //1                                          \n",
        "\t  long long aux_product = 0LL;                                             //1 \n",
        "    int n = numbers.size();                                                  //1 \n",
        "                                                                             \n",
        "    for (int first = 0; first < n; ++first) {                                //1+2n  \n",
        "        for (int second = first + 1; second < n; ++second) {                 //n + (n-1)n \n",
        "\t\t\t       aux_product =  (long long) numbers[first] * numbers[second];    //(n-1)n/2 \n",
        "            if (max_product < aux_product)  {                                //(n-1)n/2 \n",
        "\t\t\t\t        max_product = aux_product;                                   //[0, (n-1)n/2] \n",
        "             }\n",
        "        }\n",
        "    }\n",
        "                                                                             // -------------- \n",
        "    return max_product;                                                      // 4 + 3n + [2(n-1)n, 2.5 (n-1)n] \n",
        "}\n",
        "\n",
        "int main() {                                              //N inst exec by line executed \n",
        "    int n;                                                //1  \n",
        "    cin >> n;                                             //1\n",
        "    vector<int> numbers(n);                               //n\n",
        "    for (int i = 0; i < n; ++i) {                         //1 + 2n\n",
        "        cin >> numbers[i];                                //n\n",
        "    }\n",
        "\n",
        "    cout << MaxPairwiseProduct(numbers) << \"\\n\";     //1 + 1  + 4 + 3n + [2(n-1)n, 2.5 (n-1)n]\n",
        "    return 0;                                             // -------------- \n",
        "}                                                         // 9 + 7n + [2(n-1)n, 2.5 (n-1)n]\n"
      ],
      "execution_count": 36,
      "outputs": [
        {
          "output_type": "stream",
          "name": "stdout",
          "text": [
            "Overwriting max_pairwise_product_long.cpp\n"
          ]
        }
      ]
    },
    {
      "cell_type": "markdown",
      "metadata": {
        "id": "0vTsUg8OwcHs"
      },
      "source": [
        "Count executed intructions in code and verify with inputs 1, 2 and 3"
      ]
    },
    {
      "cell_type": "code",
      "metadata": {
        "colab": {
          "base_uri": "https://localhost:8080/"
        },
        "id": "CuRKkqQc137V",
        "outputId": "18340fb5-7575-44eb-c4b5-e841b9ef6548"
      },
      "source": [
        "%%writefile max_pairwise_product_long_execints.cpp\n",
        "#include <iostream>\n",
        "#include <vector>\n",
        "#include <algorithm>\n",
        "using namespace std;\n",
        "\n",
        "long long MaxPairwiseProduct(const vector<int>& numbers, long long &execints) {              //N inst exec by line executed \n",
        "    \n",
        "    long long m = 0LL;                                                       //1\n",
        "    \n",
        "    long long max_product = 0LL;                                             //1\n",
        "    execints++;\n",
        "\n",
        "\t  long long aux_product = 0LL;                                             //1\n",
        "    execints++;\n",
        "\n",
        "    int n = numbers.size();                                                  //1 \n",
        "    execints++;\n",
        "\n",
        "    execints++;                                                                         \n",
        "    for (int first = 0; first < n; ++first) {                                //1+2n  \n",
        "        execints += 2;\n",
        "\n",
        "        long long m = 0LL;\n",
        "\n",
        "        execints++;                                    \n",
        "        for (int second = first + 1; second < n; ++second) {                 //n+ (n-1)n \n",
        "            execints += 2;                                                \n",
        "\n",
        "\t\t\t      aux_product =  (long long) numbers[first] * numbers[second];    //(n-1)n/2 \n",
        "            execints++; \n",
        "\n",
        "            execints++; \n",
        "            if ( max_product < aux_product)  {                               //(n-1)n/2 \n",
        "                       \n",
        "\t\t\t\t        max_product = aux_product;                                   //[0, (n-1)n/2] \n",
        "                execints++; \n",
        "                m++;\n",
        "             }\n",
        "        }\n",
        "        if ( (first <= 10) || (n- first <= 10)) cout << m << \"\\n\";\n",
        "    }\n",
        "                                                                            // -------------- \n",
        "    return max_product;                                                     // 4 + 3n + [2(n-1)n, 2.5 (n-1)n] \n",
        "}\n",
        "\n",
        "int main() {                                                //N inst exec by line executed \n",
        "    long long execints = 0LL;\n",
        "\n",
        "    int n;                                                  //1\n",
        "    execints++;                                                              \n",
        "    \n",
        "    cin >> n;                                               //1\n",
        "    execints++;\n",
        "\n",
        "    vector<int> numbers(n);                                 //n\n",
        "    execints += n;\n",
        "    \n",
        "    execints++;\n",
        "    for (int i = 0; i < n; ++i) {                            //1 + 2n\n",
        "        execints += 2;\n",
        "\n",
        "        cin >> numbers[i];\n",
        "        execints++;                                          //n\n",
        "    }\n",
        "    \n",
        "    //cout << MaxPairwiseProduct(numbers) << \"\\n\";          //1 + 1  + 4 + 3n + [2(n-1)n, 2.5 (n-1)n]\n",
        "\n",
        "    execints++;\n",
        "    int M = MaxPairwiseProduct(numbers,execints);\n",
        "\n",
        "    execints++;\n",
        "    cout <<  execints << \"\\n\";                       \n",
        "    return 0;                                                // -------------- \n",
        "}                                                            // 9 + 7n + [2(n-1)n, 2.5 (n-1)n]"
      ],
      "execution_count": 37,
      "outputs": [
        {
          "output_type": "stream",
          "name": "stdout",
          "text": [
            "Writing max_pairwise_product_long_execints.cpp\n"
          ]
        }
      ]
    },
    {
      "cell_type": "code",
      "metadata": {
        "id": "Kuvm1C05ly2a",
        "colab": {
          "base_uri": "https://localhost:8080/"
        },
        "outputId": "b6f2e297-433e-4b7e-fdd2-6b15f8316f1d"
      },
      "source": [
        "!g++ max_pairwise_product_long_execints.cpp -o max_pairwise_product_long_execints\n",
        "!./max_pairwise_product_long_execints < input1.txt\n",
        "!./max_pairwise_product_long_execints < input2.txt\n",
        "!./max_pairwise_product_long_execints < input3.txt"
      ],
      "execution_count": 38,
      "outputs": [
        {
          "output_type": "stream",
          "name": "stdout",
          "text": [
            "9\n",
            "5\n",
            "4\n",
            "3\n",
            "2\n",
            "2\n",
            "2\n",
            "2\n",
            "1\n",
            "0\n",
            "289\n",
            "2\n",
            "1\n",
            "2\n",
            "0\n",
            "0\n",
            "0\n",
            "116\n",
            "199999\n",
            "100000\n",
            "66667\n",
            "50000\n",
            "40000\n",
            "33334\n",
            "28572\n",
            "25000\n",
            "22223\n",
            "20000\n",
            "18182\n",
            "5656\n",
            "555\n",
            "^C\n"
          ]
        }
      ]
    },
    {
      "cell_type": "markdown",
      "metadata": {
        "id": "L_uaamxeAHK7"
      },
      "source": [
        "The number of instructions executed by the algooirithm with a list of size $n$ is  \n",
        "\n",
        "$$T = 9 + 7n + [2(n-1)n, 2.5 (n-1)n]$$\n",
        "\n",
        "It depends on the size of the lists and  the order of the list.\n",
        "\n",
        "For the input1.txt \n",
        "```\n",
        "10\n",
        "1 2 3 4 5 6 7 8 9 10\n",
        "```\n",
        "$$T = 9 + 7(10) + 2(9)(10) +  9 + 5 + 4 + 3 + 2 + 2 + 2 + 2 + 1 + 0  = 289 $$\n",
        "\n",
        "For the input2.txt \n",
        "```\n",
        "6\n",
        "1 3 200000 9 200000 23\n",
        "```\n",
        "$$T = 9 + 7(6) + 2(5)(6)  +  2 + 1 + 2 + 0 + 0 + 0 = 116 $$\n",
        "\n",
        "\n",
        "For the input3.txt that is the worst case (n=200000 and list in incresing order)\n",
        "\n",
        "```\n",
        "200000\n",
        "1 2 3 4 5 6 7 8 9 10 ... 199998 199999 200000\n",
        "```\n",
        "\n",
        "$$\n",
        "\\begin{array}{ll}\n",
        "T &= 9 + 7(200000) + (2)(199999)(200000)  + (199999 +\n",
        "100000 + 66667 +50000 \\cdots 2 + 2 + 1)\\\\\n",
        "&= 80003672077  \\\\\n",
        "  &< 9 + 7(200000) + (2.5)(199999)(200000) \\\\\n",
        "  & = 100000900009\n",
        "\\end{array}\n",
        "  $$"
      ]
    },
    {
      "cell_type": "markdown",
      "metadata": {
        "id": "NXW7QkoBL6xH"
      },
      "source": [
        "Calculate estimated time by instruction and number of instructions by second"
      ]
    },
    {
      "cell_type": "code",
      "metadata": {
        "colab": {
          "base_uri": "https://localhost:8080/"
        },
        "id": "pKqB3i7dIxnc",
        "outputId": "ac7d5f0d-6740-44bb-c662-f96815f267a1"
      },
      "source": [
        "# Estimated time by instruction\n",
        "\n",
        "128/80003672077 \n"
      ],
      "execution_count": null,
      "outputs": [
        {
          "output_type": "execute_result",
          "data": {
            "text/plain": [
              "1.5999265618308827e-09"
            ]
          },
          "metadata": {},
          "execution_count": 22
        }
      ]
    },
    {
      "cell_type": "code",
      "metadata": {
        "colab": {
          "base_uri": "https://localhost:8080/"
        },
        "id": "18N1ouqeMhE1",
        "outputId": "5cbf6ca3-bd13-4fe3-a906-1c306ef9c6e2"
      },
      "source": [
        "# Estimated number of instructions by second\n",
        "\n",
        "1/(128/80003672077) "
      ],
      "execution_count": null,
      "outputs": [
        {
          "output_type": "execute_result",
          "data": {
            "text/plain": [
              "625028688.1015625"
            ]
          },
          "metadata": {},
          "execution_count": 23
        }
      ]
    },
    {
      "cell_type": "markdown",
      "metadata": {
        "id": "CQufozXLNJwO"
      },
      "source": [
        "### Efficient solution"
      ]
    },
    {
      "cell_type": "markdown",
      "metadata": {
        "id": "nLcKBwbU0QsE"
      },
      "source": [
        "Add in each line a coment with the number of intstrcution that are executed in that line"
      ]
    },
    {
      "cell_type": "code",
      "metadata": {
        "id": "knls5Fh3NSt_"
      },
      "source": [],
      "execution_count": null,
      "outputs": []
    },
    {
      "cell_type": "markdown",
      "metadata": {
        "id": "-JCijbWxNSii"
      },
      "source": [
        "Test with inputs 1 and 2\n",
        "\n"
      ]
    },
    {
      "cell_type": "code",
      "metadata": {
        "id": "TrTGAfqlNVXT"
      },
      "source": [],
      "execution_count": null,
      "outputs": []
    },
    {
      "cell_type": "markdown",
      "metadata": {
        "id": "PRX51wADNR8b"
      },
      "source": [
        "Test and time it with input 3"
      ]
    },
    {
      "cell_type": "code",
      "metadata": {
        "id": "v4z7-Is_NRt7"
      },
      "source": [],
      "execution_count": null,
      "outputs": []
    },
    {
      "cell_type": "markdown",
      "metadata": {
        "id": "rpdfs0_TNZJf"
      },
      "source": [
        "20 stress tests"
      ]
    },
    {
      "cell_type": "code",
      "metadata": {
        "id": "Lu4tYcKzNcTT"
      },
      "source": [],
      "execution_count": null,
      "outputs": []
    },
    {
      "cell_type": "markdown",
      "metadata": {
        "id": "L8U4151JNbxk"
      },
      "source": [
        "Count executed instructions in code and verify with inputs 1,2 and 3\n"
      ]
    },
    {
      "cell_type": "code",
      "metadata": {
        "id": "dh85RM8vNhFz"
      },
      "source": [],
      "execution_count": null,
      "outputs": []
    },
    {
      "cell_type": "markdown",
      "metadata": {
        "id": "K6ybgCmpNygr"
      },
      "source": [
        "Calculate estimated time by instruction and number of instructions by second"
      ]
    },
    {
      "cell_type": "code",
      "metadata": {
        "id": "kwe3G1O3Nz1w"
      },
      "source": [],
      "execution_count": null,
      "outputs": []
    },
    {
      "cell_type": "markdown",
      "metadata": {
        "id": "sc9nOLQrfTm0"
      },
      "source": [
        "### Super efficient solution\n",
        "\n",
        "Whitout storing the list in memory and whitout calling a function, add in each line a coment with the number of intstrcution that are executed in that line "
      ]
    },
    {
      "cell_type": "code",
      "metadata": {
        "id": "hBLt_xBQLy8E"
      },
      "source": [],
      "execution_count": null,
      "outputs": []
    },
    {
      "cell_type": "markdown",
      "metadata": {
        "id": "683gc3roHqzb"
      },
      "source": [
        "Test with inputs 1 and 2\n",
        "\n",
        "\n",
        " "
      ]
    },
    {
      "cell_type": "code",
      "metadata": {
        "id": "b7d4LA8OIc2_"
      },
      "source": [],
      "execution_count": null,
      "outputs": []
    },
    {
      "cell_type": "markdown",
      "metadata": {
        "id": "36Ugn1odIeJz"
      },
      "source": [
        "Test and time it with input 3"
      ]
    },
    {
      "cell_type": "code",
      "metadata": {
        "id": "jDyMbCnxHqSN"
      },
      "source": [],
      "execution_count": null,
      "outputs": []
    },
    {
      "cell_type": "markdown",
      "metadata": {
        "id": "bhqiKQG6fjKM"
      },
      "source": [
        "20 stress tests "
      ]
    },
    {
      "cell_type": "code",
      "metadata": {
        "id": "2KsiXKhALzwm"
      },
      "source": [],
      "execution_count": null,
      "outputs": []
    },
    {
      "cell_type": "markdown",
      "metadata": {
        "id": "fEXj8GHJH5p1"
      },
      "source": [
        "Count executed instructions in code and verify with inputs 1,2 and 3"
      ]
    },
    {
      "cell_type": "code",
      "metadata": {
        "id": "LF1DHjKXIAsF"
      },
      "source": [],
      "execution_count": null,
      "outputs": []
    },
    {
      "cell_type": "markdown",
      "metadata": {
        "id": "yae7sSm2IG9U"
      },
      "source": [
        "Calculate estimated time by instruction and number of instructions by second"
      ]
    },
    {
      "cell_type": "code",
      "metadata": {
        "id": "suouY7BYL2dz"
      },
      "source": [],
      "execution_count": null,
      "outputs": []
    },
    {
      "cell_type": "markdown",
      "metadata": {
        "id": "LkVxxlhl9H98"
      },
      "source": [
        "# Codeforces problem https://codeforces.com/contest/1619/problem/A \n",
        "\n",
        "Solve the problem in Colab, submit the solution to Codeforces and add a screenshoot of the submission."
      ]
    },
    {
      "cell_type": "markdown",
      "source": [
        "Submission proof:\n",
        "![image.png](data:image/png;base64,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)"
      ],
      "metadata": {
        "id": "gb-qJjXkjIXj"
      }
    },
    {
      "cell_type": "markdown",
      "source": [
        "![image.png](data:image/png;base64,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)"
      ],
      "metadata": {
        "id": "LfkckDr9u2VK"
      }
    },
    {
      "cell_type": "markdown",
      "source": [
        "Submission code:\n",
        "![image.png](data:image/png;base64,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)"
      ],
      "metadata": {
        "id": "gos0fwOpjYIH"
      }
    }
  ]
}