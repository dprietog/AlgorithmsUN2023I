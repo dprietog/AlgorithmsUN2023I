{
  "nbformat": 4,
  "nbformat_minor": 0,
  "metadata": {
    "colab": {
      "provenance": [],
      "include_colab_link": true
    },
    "kernelspec": {
      "name": "python3",
      "display_name": "Python 3"
    },
    "language_info": {
      "name": "python"
    }
  },
  "cells": [
    {
      "cell_type": "markdown",
      "metadata": {
        "id": "view-in-github",
        "colab_type": "text"
      },
      "source": [
        "<a href=\"https://colab.research.google.com/github/dprietog/AlgorithmsUN2023I/blob/main/Lab9/CormenSizeTimeComplexity.ipynb\" target=\"_parent\"><img src=\"https://colab.research.google.com/assets/colab-badge.svg\" alt=\"Open In Colab\"/></a>"
      ]
    },
    {
      "cell_type": "markdown",
      "source": [
        "# Group 6: 6 mod 4 = 2"
      ],
      "metadata": {
        "id": "mn2GteJ3KPkr"
      }
    },
    {
      "cell_type": "markdown",
      "metadata": {
        "id": "9fIs_70_DJWM"
      },
      "source": [
        "# 2.(2.5  nanoseconds by instruction)\n",
        "\n",
        "Asuuming that you can execute a 400 million instructions $400 \\times 10^6$ every second, i.e. each instrcution takes 2.5  nanoseconds, 2.5 $\\eta s  = 2.5 \\times 10^{-9} s$. If you have algorithms take $\\bf{ Time\\ Complexity}$ steps to solve a problem of size $n$ as specified in column one. What is the size of the largest problem that you can solve in the time specified in row one?\n",
        "$$\n",
        "\\begin{array}{|c|c|c|c|c|c|c|c|}\n",
        "\\hline\n",
        "\\bf{ Time\\ Complexity} & Second & Minute & Hour & Day & Year & Century & Milenium \\\\\n",
        "\\hline\\\\\n",
        "\\lg(n) & 2.5 \\times 10^{-9} \\times n \\leq 1 & 2.5 \\times 10^{-9} \\times n \\leq 60 & 2.5 \\times 10^{-9} \\times n \\leq 3600 & 2.5 \\times 10^{-9} \\times n \\leq 86400 & 2.5 \\times 10^{-9} \\times n \\leq 31536000 & 2.5 \\times 10^{-9} \\times n \\leq 3153600000 & 2.5 \\times 10^{-9} \\times n \\leq 31536000000 \\\\\n",
        "\\hline\\\\\n",
        "\\lg^2(n) & (2.5 \\times 10^{-9})^2 \\times n \\leq 1 & (2.5 \\times 10^{-9})^2 \\times n \\leq 60 & (2.5 \\times 10^{-9})^2 \\times n \\leq 3600 & (2.5 \\times 10^{-9})^2 \\times n \\leq 86400 & (2.5 \\times 10^{-9})^2 \\times n \\leq 31536000 & (2.5 \\times 10^{-9})^2 \\times n \\leq 3153600000 & (2.5 \\times 10^{-9})^2 \\times n \\leq 31536000000 \\\\\n",
        "\\hline\\\\\n",
        "\\sqrt{n} & \\sqrt{n} \\times (2.5 \\times 10^{-9}) \\leq 1 & \\sqrt{n} \\times (2.5 \\times 10^{-9}) \\leq 60 & \\sqrt{n} \\times (2.5 \\times 10^{-9}) \\leq 3600 & \\sqrt{n} \\times (2.5 \\times 10^{-9}) \\leq 86400 & \\sqrt{n} \\times (2.5 \\times 10^{-9}) \\leq 31536000 & \\sqrt{n} \\times (2.5 \\times 10^{-9}) \\leq 3153600000 & \\sqrt{n} \\times (2.5 \\times 10^{-9}) \\leq 31536000000 \\\\\n",
        "\\hline\n",
        "n & n \\times (2.5 \\times 10^{-9}) \\leq 1 & n \\times (2.5 \\times 10^{-9}) \\leq 60 & n \\times (2.5 \\times 10^{-9}) \\leq 3600 & n \\times (2.5 \\times 10^{-9}) \\leq 86400 & n \\times (2.5 \\times 10^{-9}) \\leq 31536000 & n \\times (2.5 \\times 10^{-9}) \\leq 3153600000 & n \\times (2.5 \\times 10^{-9}) \\leq 31536000000 \\\\\n",
        "\\hline\n",
        "n\\lg(n) & n \\times \\lg(n) \\times (2.5 \\times 10^{-9}) \\leq 1 & n \\times \\lg(n) \\times (2.5 \\times 10^{-9}) \\leq 60 & n \\times \\lg(n) \\times (2.5 \\times 10^{-9}) \\leq 3600 & n \\times \\lg(n) \\times (2.5 \\times 10^{-9}) \\leq 86400 & n \\times \\lg(n) \\times (2.5 \\times 10^{-9}) \\leq 31536000 & n \\times \\lg(n) \\times (2.5 \\times 10^{-9}) \\leq 3153600000 & n \\times \\lg(n) \\times (2.5 \\times 10^{-9}) \\leq 31536000000 \\\\\n",
        "\\hline\n",
        "n^2 & (2.5 \\times 10^{-9}) \\times n^2 \\leq 1 & (2.5 \\times 10^{-9}) \\times n^2 \\leq 60 & (2.5 \\times 10^{-9}) \\times n^2 \\leq 3600 & (2.5 \\times 10^{-9}) \\times n^2 \\leq 86400 & (2.5 \\times 10^{-9}) \\times n^2 \\leq 31536000 & (2.5 \\times 10^{-9}) \\times n^2 \\leq 3153600000 & (2.5 \\times 10^{-9}) \\times n^2 \\leq 31536000000 \\\\\n",
        "\\hline\n",
        "n^3 & (2.5 \\times 10^{-9}) \\times n^3 \\leq 1 & (2.5 \\times 10^{-9}) \\times n^3 \\leq 60 & (2.5 \\times 10^{-9}) \\times n^3 \\leq 3600 & (2.5 \\times 10^{-9}) \\times n^3 \\leq 86400 & (2.5 \\times 10^{-9}) \\times n^3 \\leq 31536000 & (2.5 \\times 10^{-9}) \\times n^3 \\leq 3153600000 & (2.5 \\times 10^{-9}) \\times n^3 \\leq 31536000000 \\\\\n",
        "\\hline\n",
        "n^4 & (2.5 \\times 10^{-9}) \\times n^4 \\leq 1 & (2.5 \\times 10^{-9}) \\times n^4 \\leq 60 & (2.5 \\times 10^{-9}) \\times n^4 \\leq 3600 & (2.5 \\times 10^{-9}) \\times n^4 \\leq 86400 & (2.5 \\times 10^{-9}) \\times n^4 \\leq 31536000 & (2.5 \\times 10^{-9}) \\times n^4 \\leq 3153600000 & (2.5 \\times 10^{-9}) \\times n^4 \\leq 31536000000 \\\\\n",
        "\\hline\n",
        "2^n & 2^n \\times (2.5 \\times 10^{-9}) \\leq 1 & 2^n \\times (2.5 \\times 10^{-9}) \\leq 60 & 2^n \\times (2.5 \\times 10^{-9}) \\leq 3600 & 2^n \\times (2.5 \\times 10^{-9}) \\leq 86400 & 2^n \\times (2.5 \\times 10^{-9}) \\leq 31536000 & 2^n \\times (2.5 \\times 10^{-9}) \\leq 3153600000 & 2^n \\times (2.5 \\times 10^{-9}) \\leq 31536000000 \\\\\n",
        "\\hline\n",
        "n! & n! \\times (2.5 \\times 10^{-9}) \\leq 1 & n! \\times (2.5 \\times 10^{-9}) \\leq 60 & n! \\times (2.5 \\times 10^{-9}) \\leq 3600 & n! \\times (2.5 \\times 10^{-9}) \\leq 86400 & n! \\times (2.5 \\times 10^{-9}) \\leq 31536000 & n! \\times (2.5 \\times 10^{-9}) \\leq 3153600000 & n! \\times (2.5 \\times 10^{-9}) \\leq 31536000000 \\\\\n",
        "\\hline\n",
        "n^n & n^n \\times (2.5 \\times 10^{-9}) \\leq 1 & n^n \\times (2.5 \\times 10^{-9}) \\leq 60 & n^n \\times (2.5 \\times 10^{-9}) \\leq 3600 & n^n \\times (2.5 \\times 10^{-9}) \\leq 86400 & n^n \\times (2.5 \\times 10^{-9}) \\leq 31536000 & n^n \\times (2.5 \\times 10^{-9}) \\leq 3153600000 & n^n \\times (2.5 \\times 10^{-9}) \\leq 31536000000 \\\\\n",
        " \\hline\n",
        "\\end{array}\n",
        "$$"
      ]
    },
    {
      "cell_type": "markdown",
      "source": [
        "$$\n",
        "\\begin{array}{|c|c|c|c|c|c|c|c|}\n",
        "\\hline\n",
        "\\bf{ Time\\ Complexity} & Second & Minute & Hour & Day & Year & Century & Milenium \\\\\n",
        "\\hline\\\\\n",
        "\\lg(n) & n \\leq 2.5 \\times 10^9 & n \\leq 1.5 \\times 10^{11} & n \\leq 9 \\times 10^{12} & n \\leq 2.16 \\times 10^{14} & n \\leq 7.86 \\times 10^{15} & n \\leq 7.86 \\times 10^{16} & n \\leq 7.86 \\times 10^{17} \\\\\n",
        "\\hline\\\\\n",
        "\\lg^2(n) & n \\leq 4 \\times 10^4 & n \\leq 6.67 \\times 10^5 & n \\leq 1.5 \\times 10^7 & n \\leq 6.17 \\times 10^8 & n \\leq 1.99 \\times 10^{10} & n \\leq 1.99 \\times 10^{12} & n \\leq 1.99 \\times 10^{14} \\\\\n",
        "\\hline\\\\\n",
        "\\sqrt{n} & n^2 \\leq 4 \\times 10^9 & n^2 \\leq 3.6 \\times 10^{12} & n^2 \\leq 1.29 \\times 10^{16} & n^2 \\leq 7.46 \\times 10^{18} & n^2 \\leq 9.95 \\times 10^{20} & n^2 \\leq 9.95 \\times 10^{22} & n^2 \\leq 9.95 \\times 10^{24} \\\\\n",
        "\\hline\n",
        "n & n \\leq 2.5 \\times 10^9 & n \\leq 1.5 \\times 10^{11} & n \\leq 9 \\times 10^{12} & n \\leq 2.16 \\times 10^{14} & n \\leq 7.86 \\times 10^{15} & n \\leq 7.86 \\times 10^{16} & n \\leq 7.86 \\times 10^{17} \\\\\n",
        "\\hline\n",
        "n\\lg(n) & n \\leq 8 \\times 10^7 & n \\leq 4 \\times 10^9 & n \\leq 2.46 \\times 10^{11} & n \\leq 6.65 \\times 10^{12} & n \\leq 1.91 \\times 10^{14} & n \\leq 1.91 \\times 10^{16} & n \\leq 1.91 \\times 10^{18} \\\\\n",
        "\\hline\n",
        "n^2 & n \\leq 1.59 \\times 10^4 & n \\leq 2.45 \\times 10^3 & n \\leq 3.16 \\times 10^2 & n \\leq 1.48 \\times 10^2 & n \\leq 1.12 \\times 10^2 & n \\leq 5.62 \\times 10^1 & n \\leq 3.16 \\times 10^1 \\\\\n",
        "\\hline\n",
        "n^3 & n \\leq 3.16 \\times 10^3 & n \\leq 1.44 \\times 10^2 & n \\leq 2.16 \\times 10^1 & n \\leq 6.92 & n \\leq 4.42 & n \\leq 1.46 & n \\leq 6.92 \\times 10^{-1} \\\\\n",
        "\\hline\n",
        "n^4 & n \\leq 63 & n \\leq 10 & n \\leq 4.15 & n \\leq 2.49 & n \\leq 1.82 & n \\leq 1.27 & n \\leq 9.98 \\times 10^{-1} \\\\\n",
        "\\hline\n",
        "2^n & n \\leq 31 & n \\leq 20 & n \\leq 15.18 & n \\leq 12.16 & n \\leq 10.27 & n \\leq 9.19 & n \\leq 8.73 \\\\\n",
        "\\hline\n",
        "n! & n \\leq 12 & n \\leq 6 & n \\leq 4 & n \\leq 3 & n \\leq 2.69 & n \\leq 2.45 & n \\leq 2.31 \\\\\n",
        "\\hline\n",
        "\\hline\n",
        "n^n & n \\leq 10 & n \\leq 3.92 & n \\leq 2.37 & n \\leq 1.99 & n \\leq 1.79 & n \\leq 1.66 & n \\leq 1.57 \\\\\n",
        "\\hline\n",
        "\\end{array}\n",
        "$$"
      ],
      "metadata": {
        "id": "WfjAZ5SHRoQ0"
      }
    }
  ]
}