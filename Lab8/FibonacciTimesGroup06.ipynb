{
  "nbformat": 4,
  "nbformat_minor": 0,
  "metadata": {
    "colab": {
      "provenance": [],
      "include_colab_link": true
    },
    "kernelspec": {
      "name": "python3",
      "display_name": "Python 3"
    }
  },
  "cells": [
    {
      "cell_type": "markdown",
      "metadata": {
        "id": "view-in-github",
        "colab_type": "text"
      },
      "source": [
        "<a href=\"https://colab.research.google.com/github/dprietog/AlgorithmsUN2023I/blob/main/Lab8/FibonacciTimesGroup06.ipynb\" target=\"_parent\"><img src=\"https://colab.research.google.com/assets/colab-badge.svg\" alt=\"Open In Colab\"/></a>"
      ]
    },
    {
      "cell_type": "markdown",
      "metadata": {
        "id": "X8n2KKvk9VxL"
      },
      "source": [
        "# Fibonacci sequence \n",
        "\n",
        "Fibonacci  - https://en.wikipedia.org/wiki/Fibonacci Leonardo Bonacci, Leonardo of Pisa, or Leonardo Bigollo Pisano ('Leonardo the Traveller from Pisa')  \n",
        "\n",
        "$$\n",
        " f_n = \\left\\{ \n",
        " \\begin{array}{lll}\n",
        " 0& if & n=0\\\\\n",
        " 1& if & n=1\\\\\n",
        " f_{n-1} +   f_{n-2} & if & n> 1 \\text{ (otherwise)}\\\\\n",
        " \\end{array}\n",
        "   \\right.\n",
        "$$\n",
        "\n"
      ]
    },
    {
      "cell_type": "markdown",
      "metadata": {
        "id": "kPF1PvZye5T9"
      },
      "source": [
        "## Fibonacci recursive algorithm $O\\left( \\left(  \\frac{1+\\sqrt(5)}{2}  \\right)^n  lg\\ n\\right)$ [Relaxed asymptotic bound $O(2^n\\ lg\\ n)$]"
      ]
    },
    {
      "cell_type": "code",
      "metadata": {
        "id": "nNNFssFuzeqk"
      },
      "source": [
        "# fibR - Fibonacci Recursive O( ( (1+sqrt(5)/2 )^n lg n ) [Relaxed asymptotic bound O(2^n lg n)] \n",
        "def fibR(n):\n",
        "    if n==0 :\n",
        "        return 0\n",
        "    if n==1 :\n",
        "        return 1\n",
        "    return fibR(n-1)+fibR(n-2)    # for large n´s  the addition will take lg n stetp because the numebers are very large"
      ],
      "execution_count": null,
      "outputs": []
    },
    {
      "cell_type": "markdown",
      "metadata": {
        "id": "h9hJRvO-8TEY"
      },
      "source": [
        "https://www.geeksforgeeks.org/time-process_time-function-in-python/"
      ]
    },
    {
      "cell_type": "code",
      "metadata": {
        "colab": {
          "base_uri": "https://localhost:8080/"
        },
        "id": "uZZFfd-VGiOC",
        "outputId": "ec7dfb00-04a7-49be-bb8b-4bcde3a80e2e"
      },
      "source": [
        "from time import process_time\n",
        "n=5\n",
        "t0 = process_time()\n",
        "k = fibR(n)\n",
        "tf =process_time()\n",
        "print(\"n=\",n,\"fib(\",n,\")=\",k,\"time\",tf - t0, \"seconds process time\")"
      ],
      "execution_count": null,
      "outputs": [
        {
          "output_type": "stream",
          "name": "stdout",
          "text": [
            "n= 5 fib( 5 )= 5 time 0.00014556700000012412 seconds process time\n"
          ]
        }
      ]
    },
    {
      "cell_type": "code",
      "metadata": {
        "colab": {
          "base_uri": "https://localhost:8080/"
        },
        "id": "fB6fqkO2GqZ5",
        "outputId": "48d9e142-78ac-4b8e-aab2-ee82c448fec7"
      },
      "source": [
        "from time import process_time\n",
        "n=10\n",
        "t0 = process_time()\n",
        "k = fibR(n)\n",
        "tf =process_time()\n",
        "print(\"n=\",n,\"fib(\",n,\")=\",k,\"time\",tf - t0, \"seconds process time\")"
      ],
      "execution_count": null,
      "outputs": [
        {
          "output_type": "stream",
          "name": "stdout",
          "text": [
            "n= 10 fib( 10 )= 55 time 0.0001221479999999886 seconds process time\n"
          ]
        }
      ]
    },
    {
      "cell_type": "code",
      "metadata": {
        "colab": {
          "base_uri": "https://localhost:8080/"
        },
        "id": "3_XEueisGvmZ",
        "outputId": "d3ff9f89-44fd-48e5-8679-c4f579f578c2"
      },
      "source": [
        "from time import process_time\n",
        "n=17\n",
        "t0 = process_time()\n",
        "k = fibR(n)\n",
        "tf =process_time()\n",
        "print(\"n=\",n,\"fib(\",n,\")=\",k,\"time\",tf - t0, \"seconds process time\")"
      ],
      "execution_count": null,
      "outputs": [
        {
          "output_type": "stream",
          "name": "stdout",
          "text": [
            "n= 17 fib( 17 )= 1597 time 0.0014188719999999044 seconds process time\n"
          ]
        }
      ]
    },
    {
      "cell_type": "code",
      "metadata": {
        "colab": {
          "base_uri": "https://localhost:8080/"
        },
        "id": "y7HczD9rlUKM",
        "outputId": "a8cc7314-b823-46bd-94d1-9ba00b108f9e"
      },
      "source": [
        "from time import process_time\n",
        "n=40\n",
        "t0 = process_time()\n",
        "k = fibR(n)\n",
        "tf =process_time()\n",
        "print(\"n=\",n,\"fib(\",n,\")=\",k,\"time\",tf - t0, \"seconds process time\")"
      ],
      "execution_count": null,
      "outputs": [
        {
          "output_type": "stream",
          "name": "stdout",
          "text": [
            "n= 40 fib( 40 )= 102334155 time 48.357343056999994 seconds process time\n"
          ]
        }
      ]
    },
    {
      "cell_type": "code",
      "metadata": {
        "id": "jyhk9bOxjWot"
      },
      "source": [
        "from time import process_time\n",
        "\n",
        "def time_recursive_fib(n):\n",
        "  t0 = process_time()\n",
        "  fibR(n)\n",
        "  tf =process_time()\n",
        "  return tf-t0"
      ],
      "execution_count": null,
      "outputs": []
    },
    {
      "cell_type": "code",
      "metadata": {
        "id": "Y5d39_tRjX8j"
      },
      "source": [
        "t_rec_fib={}\n",
        "for n in range(40,46): \n",
        "    t_rec_fib[n] = time_recursive_fib(n)\n",
        "    print(\"n=\",n,\"fib(\",n,\")=\",k,\"time\",t_rec_fib[n], \"seconds process time\")\n"
      ],
      "execution_count": null,
      "outputs": []
    },
    {
      "cell_type": "markdown",
      "metadata": {
        "id": "poDxpjJdgEaO"
      },
      "source": [
        "The ratio between time to calculate $f_{n+1}$, noted $T(f_{n})$  and the time to calculate $f_{40}$,$T(f_{41})$  is $\\approx \\frac{1+\\sqrt(5)}{2}$ \n",
        "\n",
        "$$\\frac{T(f_{n+1})}{T(f_{n})}\\approx \\frac{1+\\sqrt(5)}{2} $$"
      ]
    },
    {
      "cell_type": "code",
      "metadata": {
        "id": "m1GVc1JJilft"
      },
      "source": [
        "for n in range(40,45): \n",
        "    print(\"Time fib(\",n,\") / Time fib(\",n+1,\")  =\",t_rec_fib[n+1]/t_rec_fib[n])"
      ],
      "execution_count": null,
      "outputs": []
    },
    {
      "cell_type": "code",
      "metadata": {
        "colab": {
          "base_uri": "https://localhost:8080/"
        },
        "id": "6ebnBUkuqlFM",
        "outputId": "2fcd0766-8997-4330-a5c8-37948a8b2c0a"
      },
      "source": [
        "import math\n",
        "(1+math.sqrt(5))/2"
      ],
      "execution_count": null,
      "outputs": [
        {
          "output_type": "execute_result",
          "data": {
            "text/plain": [
              "1.618033988749895"
            ]
          },
          "metadata": {},
          "execution_count": 9
        }
      ]
    },
    {
      "cell_type": "markdown",
      "metadata": {
        "id": "sX326plrQU9O"
      },
      "source": [
        "## Estimated time to recursively caculate of the Fibonacci $f_{n}$\n",
        "\n",
        "Assuming that the recusrive caculation of the Fibonacci $f_{41}$ takes approximately one minute and assuming the time to calcualte the next Fibonacci numbres is the double of the previus, so  $f_{42}$ will take 2 minutes,  $f_{43}$ will take 4 minutes, $f_{44}$ will take  8 minutes and so on.\n",
        "\n",
        "\n",
        "So to calulate $f_{n}$ it will take \n",
        "$$ 2^{(n-41)} \\text{ minutes for } n \\ge 41$$ "
      ]
    },
    {
      "cell_type": "code",
      "metadata": {
        "colab": {
          "base_uri": "https://localhost:8080/"
        },
        "id": "NgWDIIyrSWns",
        "outputId": "c0604c74-dbc3-4f69-e32c-f36187d1542a"
      },
      "source": [
        "print(\"f_n\",\"{0:>25}\".format(\"Minutes\"),\"{0:>25}\".format(\"Hours\"),\"{0:>25}\".format(\"Days\"),  \"{0:>25}\".format(\"Years\"),\"{0:>25}\".format(\"Centuries\"),\"{0:>25}\".format(\"Mileniuns\"))\n",
        "for n in range(41,101):\n",
        "  tmins = 2**(n-41)\n",
        "  print(format(\"f_\"+str(n),'5'),\"{0:>25}\".format(round(tmins,0)), \"{0:>25}\".format(tmins/60),\"{0:>25}\".format(tmins/(60*24)),\"{0:>25}\".format(tmins/(60*24*365)),\"{0:>25}\".format(tmins/(60*24*365*100)),\"{0:>25}\".format(tmins/(60*24*365*1000)))"
      ],
      "execution_count": null,
      "outputs": [
        {
          "output_type": "stream",
          "name": "stdout",
          "text": [
            "f_n                   Minutes                     Hours                      Days                     Years                 Centuries                 Mileniuns\n",
            "f_41                          1      0.016666666666666666     0.0006944444444444445     1.902587519025875e-06     1.902587519025875e-08     1.902587519025875e-09\n",
            "f_42                          2       0.03333333333333333      0.001388888888888889      3.80517503805175e-06      3.80517503805175e-08      3.80517503805175e-09\n",
            "f_43                          4       0.06666666666666667      0.002777777777777778       7.6103500761035e-06       7.6103500761035e-08       7.6103500761035e-09\n",
            "f_44                          8       0.13333333333333333      0.005555555555555556       1.5220700152207e-05       1.5220700152207e-07       1.5220700152207e-08\n",
            "f_45                         16       0.26666666666666666      0.011111111111111112       3.0441400304414e-05       3.0441400304414e-07       3.0441400304414e-08\n",
            "f_46                         32        0.5333333333333333      0.022222222222222223       6.0882800608828e-05       6.0882800608828e-07       6.0882800608828e-08\n",
            "f_47                         64        1.0666666666666667      0.044444444444444446      0.000121765601217656      1.21765601217656e-06      1.21765601217656e-07\n",
            "f_48                        128        2.1333333333333333       0.08888888888888889      0.000243531202435312      2.43531202435312e-06      2.43531202435312e-07\n",
            "f_49                        256         4.266666666666667       0.17777777777777778      0.000487062404870624      4.87062404870624e-06      4.87062404870624e-07\n",
            "f_50                        512         8.533333333333333       0.35555555555555557      0.000974124809741248      9.74124809741248e-06      9.74124809741248e-07\n",
            "f_51                       1024        17.066666666666666        0.7111111111111111      0.001948249619482496     1.948249619482496e-05     1.948249619482496e-06\n",
            "f_52                       2048         34.13333333333333        1.4222222222222223      0.003896499238964992     3.896499238964992e-05     3.896499238964992e-06\n",
            "f_53                       4096         68.26666666666667        2.8444444444444446      0.007792998477929984     7.792998477929985e-05     7.792998477929985e-06\n",
            "f_54                       8192        136.53333333333333         5.688888888888889      0.015585996955859969     0.0001558599695585997     1.558599695585997e-05\n",
            "f_55                      16384        273.06666666666666        11.377777777777778      0.031171993911719938     0.0003117199391171994     3.117199391171994e-05\n",
            "f_56                      32768         546.1333333333333        22.755555555555556      0.062343987823439875     0.0006234398782343988     6.234398782343988e-05\n",
            "f_57                      65536        1092.2666666666667         45.51111111111111       0.12468797564687975     0.0012468797564687975    0.00012468797564687975\n",
            "f_58                     131072        2184.5333333333333         91.02222222222223        0.2493759512937595      0.002493759512937595     0.0002493759512937595\n",
            "f_59                     262144         4369.066666666667        182.04444444444445         0.498751902587519       0.00498751902587519      0.000498751902587519\n",
            "f_60                     524288         8738.133333333333         364.0888888888889         0.997503805175038       0.00997503805175038      0.000997503805175038\n",
            "f_61                    1048576        17476.266666666666         728.1777777777778         1.995007610350076       0.01995007610350076      0.001995007610350076\n",
            "f_62                    2097152         34952.53333333333        1456.3555555555556         3.990015220700152       0.03990015220700152      0.003990015220700152\n",
            "f_63                    4194304         69905.06666666667         2912.711111111111         7.980030441400304       0.07980030441400304      0.007980030441400304\n",
            "f_64                    8388608        139810.13333333333         5825.422222222222        15.960060882800608       0.15960060882800609       0.01596006088280061\n",
            "f_65                   16777216        279620.26666666666        11650.844444444445        31.920121765601216       0.31920121765601217       0.03192012176560122\n",
            "f_66                   33554432         559240.5333333333         23301.68888888889         63.84024353120243        0.6384024353120243       0.06384024353120243\n",
            "f_67                   67108864        1118481.0666666667         46603.37777777778        127.68048706240486        1.2768048706240487       0.12768048706240487\n",
            "f_68                  134217728        2236962.1333333333         93206.75555555556        255.36097412480973        2.5536097412480974       0.25536097412480974\n",
            "f_69                  268435456         4473924.266666667        186413.51111111112        510.72194824961946         5.107219482496195        0.5107219482496195\n",
            "f_70                  536870912         8947848.533333333        372827.02222222224        1021.4438964992389         10.21443896499239         1.021443896499239\n",
            "f_71                 1073741824        17895697.066666666         745654.0444444445        2042.8877929984778         20.42887792998478         2.042887792998478\n",
            "f_72                 2147483648         35791394.13333333         1491308.088888889        4085.7755859969557         40.85775585996956         4.085775585996956\n",
            "f_73                 4294967296         71582788.26666667         2982616.177777778         8171.551171993911         81.71551171993912         8.171551171993912\n",
            "f_74                 8589934592        143165576.53333333         5965232.355555556        16343.102343987823        163.43102343987823        16.343102343987823\n",
            "f_75                17179869184        286331153.06666666        11930464.711111112        32686.204687975645        326.86204687975646        32.686204687975646\n",
            "f_76                34359738368         572662306.1333333        23860929.422222223         65372.40937595129         653.7240937595129         65.37240937595129\n",
            "f_77                68719476736        1145324612.2666667        47721858.844444446        130744.81875190258        1307.4481875190259        130.74481875190259\n",
            "f_78               137438953472        2290649224.5333333         95443717.68888889        261489.63750380516        2614.8963750380517        261.48963750380517\n",
            "f_79               274877906944         4581298449.066667        190887435.37777779         522979.2750076103         5229.792750076103         522.9792750076103\n",
            "f_80               549755813888         9162596898.133333        381774870.75555557        1045958.5500152207        10459.585500152207        1045.9585500152207\n",
            "f_81              1099511627776        18325193796.266666         763549741.5111111        2091917.1000304413        20919.171000304414        2091.9171000304414\n",
            "f_82              2199023255552         36650387592.53333        1527099483.0222223        4183834.2000608826         41838.34200060883         4183.834200060883\n",
            "f_83              4398046511104         73300775185.06667        3054198966.0444446         8367668.400121765         83676.68400121765         8367.668400121765\n",
            "f_84              8796093022208        146601550370.13333         6108397932.088889         16735336.80024353         167353.3680024353         16735.33680024353\n",
            "f_85             17592186044416        293203100740.26666        12216795864.177778         33470673.60048706         334706.7360048706         33470.67360048706\n",
            "f_86             35184372088832         586406201480.5333        24433591728.355556         66941347.20097412         669413.4720097412         66941.34720097412\n",
            "f_87             70368744177664        1172812402961.0667         48867183456.71111        133882694.40194824        1338826.9440194825        133882.69440194825\n",
            "f_88            140737488355328        2345624805922.1333         97734366913.42223         267765388.8038965         2677653.888038965         267765.3888038965\n",
            "f_89            281474976710656         4691249611844.267        195468733826.84445          535530777.607793          5355307.77607793          535530.777607793\n",
            "f_90            562949953421312         9382499223688.533         390937467653.6889         1071061555.215586         10710615.55215586         1071061.555215586\n",
            "f_91           1125899906842624        18764998447377.066         781874935307.3778         2142123110.431172         21421231.10431172         2142123.110431172\n",
            "f_92           2251799813685248         37529996894754.13        1563749870614.7556         4284246220.862344         42842462.20862344         4284246.220862344\n",
            "f_93           4503599627370496         75059993789508.27         3127499741229.511         8568492441.724688         85684924.41724688         8568492.441724688\n",
            "f_94           9007199254740992        150119987579016.53         6254999482459.022        17136984883.449375        171369848.83449376        17136984.883449376\n",
            "f_95          18014398509481984        300239975158033.06        12509998964918.045         34273969766.89875         342739697.6689875         34273969.76689875\n",
            "f_96          36028797018963968         600479950316066.1         25019997929836.09          68547939533.7975          685479395.337975          68547939.5337975\n",
            "f_97          72057594037927936        1200959900632132.2         50039995859672.18          137095879067.595          1370958790.67595          137095879.067595\n",
            "f_98         144115188075855872        2401919801264264.5        100079991719344.36           274191758135.19           2741917581.3519           274191758.13519\n",
            "f_99         288230376151711744        4803839602528529.0        200159983438688.72           548383516270.38           5483835162.7038           548383516.27038\n",
            "f_100        576460752303423488        9607679205057058.0        400319966877377.44          1096767032540.76          10967670325.4076          1096767032.54076\n"
          ]
        }
      ]
    },
    {
      "cell_type": "markdown",
      "metadata": {
        "id": "SejrCnScUhGM"
      },
      "source": [
        "## Given a time in minutes which is the largets Fibonacci $f_{n}$ that be \n",
        "\n",
        "\n",
        "calculated recusrively\n",
        "\n",
        "Time in minutes $T$\n",
        "\n",
        "$$ 2^{(n-41)}<T$$ \n",
        "\n",
        "\n",
        "$$ \\lg\\left(2^{(n-41)}\\right) <\\lceil\\lg(T)\\rceil$$\n",
        "\n",
        "$$ n-41 <\\lceil\\lg(T)\\rceil$$ \n",
        "\n",
        "$$ n <\\lceil\\lg(T)\\rceil+41$$ "
      ]
    },
    {
      "cell_type": "code",
      "metadata": {
        "colab": {
          "base_uri": "https://localhost:8080/"
        },
        "id": "rtO7RnQyktKo",
        "outputId": "16017500-6b9c-49cc-92a2-7ae4e5e50dbe"
      },
      "source": [
        "# Max n in 1 year = 60*24*365 minutes\n",
        "\n",
        "import math \n",
        "math.ceil(math.log2(60*24*365))+41"
      ],
      "execution_count": null,
      "outputs": [
        {
          "output_type": "execute_result",
          "data": {
            "text/plain": [
              "61"
            ]
          },
          "metadata": {},
          "execution_count": 11
        }
      ]
    },
    {
      "cell_type": "code",
      "metadata": {
        "colab": {
          "base_uri": "https://localhost:8080/"
        },
        "id": "CpIGWRzCl81s",
        "outputId": "e3971765-96c8-404f-cb7a-05f3990fc778"
      },
      "source": [
        "# Max n 100 years 60*24*365*100 minutes\n",
        "\n",
        "import math \n",
        "math.ceil(math.log2(60*24*365*100))+41"
      ],
      "execution_count": null,
      "outputs": [
        {
          "output_type": "execute_result",
          "data": {
            "text/plain": [
              "67"
            ]
          },
          "metadata": {},
          "execution_count": 12
        }
      ]
    },
    {
      "cell_type": "code",
      "metadata": {
        "colab": {
          "base_uri": "https://localhost:8080/"
        },
        "id": "bD9q_MyumGgU",
        "outputId": "d2c35472-0be4-4a59-aeba-16bc64d81eb5"
      },
      "source": [
        "# Max n 1000 years 60*60*24*360*100 minutes\n",
        "\n",
        "import math \n",
        "math.ceil(math.log2(60*24*365*1000))+41"
      ],
      "execution_count": null,
      "outputs": [
        {
          "output_type": "execute_result",
          "data": {
            "text/plain": [
              "70"
            ]
          },
          "metadata": {},
          "execution_count": 14
        }
      ]
    },
    {
      "cell_type": "code",
      "metadata": {
        "colab": {
          "base_uri": "https://localhost:8080/"
        },
        "id": "3agEZf9SmNSl",
        "outputId": "b32dc351-bd68-4589-b0ab-8408a630cd0e"
      },
      "source": [
        "# Max f_n im 1.000.000 years 60*24*365*1000000 minutes\n",
        "\n",
        "import math \n",
        "math.ceil(math.log2(60*24*360*1000000))+41"
      ],
      "execution_count": null,
      "outputs": [
        {
          "output_type": "execute_result",
          "data": {
            "text/plain": [
              "80"
            ]
          },
          "metadata": {},
          "execution_count": 15
        }
      ]
    },
    {
      "cell_type": "code",
      "metadata": {
        "colab": {
          "base_uri": "https://localhost:8080/"
        },
        "id": "N7WkDYHedN8H",
        "outputId": "2f36bf71-bf5b-48fe-a277-13b3c48f0ffa"
      },
      "source": [
        "# Max n in 1000.000.000 years 60*24*365*1000000000 minutes\n",
        "\n",
        "import math \n",
        "math.ceil(math.log2(60*24*360*1000000000))+41"
      ],
      "execution_count": null,
      "outputs": [
        {
          "output_type": "execute_result",
          "data": {
            "text/plain": [
              "90"
            ]
          },
          "metadata": {},
          "execution_count": 16
        }
      ]
    },
    {
      "cell_type": "markdown",
      "metadata": {
        "id": "3dfhpTAXEAjM"
      },
      "source": [
        "## Fibonacci analytical solution\n",
        "\n",
        "The Fibonacci sequence is the solution of the homogenous linear difference equation or  homogenous linear recurrence relation  https://en.wikipedia.org/wiki/Linear_difference_equation\n",
        "\n",
        "$$\n",
        "f_n =  f_{n-1} + f_{n-2} \\ \\ \\ \\ \\ \\ \\ \\text{if}\\ \\ \\ \\ \\ n> 1 \n",
        "$$\n",
        "with intial conditions\n",
        "$$\n",
        "f_0 =0 \\text{ and }f_1 = 1\\\n",
        "$$\n",
        "\n",
        "All linear difference equations have a solution of the from  $\\lambda^n$\n",
        "$$\n",
        "f_n = \\lambda^n\n",
        "$$ \n",
        "so \n",
        "$$ \n",
        "\\lambda^n =  \\lambda^{n-1} + \\lambda^{n-2} \n",
        "$$ \n",
        "divding by $\\lambda^{n-2} $\n",
        "$$ \n",
        "\\lambda^2 -  \\lambda -  1 = 0\n",
        "$$ \n",
        "then\n",
        "$$\n",
        "\\lambda = \\frac{1 \\pm \\sqrt{5}}{2}\n",
        "$$\n",
        "therefore\n",
        "$$\n",
        "f_n =  A \\left( \\frac{1 + \\sqrt{5}}{2} \\right)^n  + B \\left(\\frac{1 - \\sqrt{5}}{2} \\right)^n\n",
        "$$\n",
        "we find $A$ and $B$ with initial conditions\n",
        "$$\n",
        "f_0 = 0  = A \\left( \\frac{1 + \\sqrt{5}}{2} \\right)^0  + B \\left(\\frac{1 - \\sqrt{5}}{2} \\right)^0 = A+B\n",
        "$$\n",
        "so\n",
        "$$\n",
        "B = -A\n",
        "$$\n",
        "and \n",
        "$$\n",
        "f_1 = 1  = A \\left( \\frac{1 + \\sqrt{5}}{2} \\right)^1  + B \\left(\\frac{1 - \\sqrt{5}}{2} \\right)^1 = A \\left( \\frac{1 + \\sqrt{5}}{2} \\right)  - A \\left(\\frac{1 - \\sqrt{5}}{2} \\right) = A \\sqrt{5}\n",
        "$$\n",
        "so \n",
        "$$\n",
        "A =\\frac{1}{\\sqrt{5}}\n",
        "$$\n",
        "then\n",
        "$$\n",
        "f_n =  \\frac{1}{\\sqrt{5}} \\left( \\frac{1 + \\sqrt{5}}{2} \\right)^n  - \\frac{1}{\\sqrt{5}} \\left(\\frac{1 - \\sqrt{5}}{2} \\right)^n\n",
        "$$"
      ]
    },
    {
      "cell_type": "code",
      "metadata": {
        "id": "zJ2XBkns0UzP"
      },
      "source": [
        "import math\n",
        "def fibA(n):\n",
        "  r5= math.sqrt(5)\n",
        "  return  (1/r5)*((1 + r5 )/2)**n - (1/r5)*((1 - r5 )/2)**n"
      ],
      "execution_count": null,
      "outputs": []
    },
    {
      "cell_type": "code",
      "metadata": {
        "colab": {
          "base_uri": "https://localhost:8080/"
        },
        "id": "shhR4n5RHA2j",
        "outputId": "19e47b62-ad04-4d48-bd06-1412e1602770"
      },
      "source": [
        " for n in range(0, 10):\n",
        "   print(\"f_\",n,\" =\",fibA(n),\"round(f_\",n,\",0) =\",round(fibA(n),0))"
      ],
      "execution_count": null,
      "outputs": [
        {
          "output_type": "stream",
          "name": "stdout",
          "text": [
            "f_ 0  = 0.0 round(f_ 0 ,0) = 0.0\n",
            "f_ 1  = 1.0 round(f_ 1 ,0) = 1.0\n",
            "f_ 2  = 0.9999999999999999 round(f_ 2 ,0) = 1.0\n",
            "f_ 3  = 2.0 round(f_ 3 ,0) = 2.0\n",
            "f_ 4  = 3.0000000000000004 round(f_ 4 ,0) = 3.0\n",
            "f_ 5  = 5.000000000000001 round(f_ 5 ,0) = 5.0\n",
            "f_ 6  = 8.000000000000002 round(f_ 6 ,0) = 8.0\n",
            "f_ 7  = 13.000000000000004 round(f_ 7 ,0) = 13.0\n",
            "f_ 8  = 21.000000000000004 round(f_ 8 ,0) = 21.0\n",
            "f_ 9  = 34.000000000000014 round(f_ 9 ,0) = 34.0\n"
          ]
        }
      ]
    },
    {
      "cell_type": "markdown",
      "metadata": {
        "id": "N8tM2LpIm20x"
      },
      "source": [
        "[Fibonacci Spreadsheet](https://github.com/gjhernandezp/algorithms/blob/master/AnalysisOfAlgorithms/fib.csv)\n",
        "\n"
      ]
    },
    {
      "cell_type": "code",
      "source": [
        "# Counting recursive calls\n",
        "\n",
        "# fibR - Fibonacci Recursive O( ( (1+sqrt(5)/2 )^n lg n ) [Relaxed asymptotic bound O(2^n lg n)] \n",
        "def fibR_steps(n):\n",
        "  def fibR(n):\n",
        "      global steps\n",
        "      steps +=1\n",
        "      if n==0 :\n",
        "          return 0\n",
        "      steps +=1    \n",
        "      if n==1 :\n",
        "          return 1\n",
        "          \n",
        "      steps +=1\n",
        "      return fibR(n-1)+fibR(n-2)    # for large n´s  the addition will take lg n stetp because the numebers are very large\n",
        "  global steps\n",
        "  steps = 0\n",
        "  fibR(n)\n",
        "  return steps"
      ],
      "metadata": {
        "id": "lY_14wyfgy3z"
      },
      "execution_count": null,
      "outputs": []
    },
    {
      "cell_type": "markdown",
      "metadata": {
        "id": "kOrB14wvK-fS"
      },
      "source": [
        "## The time complexity of Fibonacci recursive algorithm\n",
        "\n",
        "The time complexity (running time in a RAM - number of elementary instructions) of the Fibonacci recursive algorithm \n",
        "\n",
        "```(phyton)\n",
        "def fibR(n):\n",
        "    if n==0 :\n",
        "        return 0\n",
        "    if n==1 :\n",
        "        return 1\n",
        "    return fibR(n-1)+fibR(n-2)\n",
        "```\n",
        "is\n",
        "$$\n",
        "T(n)=  T(n-1) + T(n-2)  + 3 \\ \\ \\ \\ \\ \\ \\ \\text{if}\\ \\ \\ \\ \\ \\ n> 1 \n",
        "$$\n",
        "\n",
        "Changing the notation $T(n) = t_n$ this is an inhomogenous linear difference equation or recurrence relation https://en.wikipedia.org/wiki/Linear_difference_equation\n",
        "$$\n",
        "t_n =  t_{n-1} + t_{n-2} + 3\\ \\ \\ \\ \\ \\ \\ \\text{if}\\ \\ \\ \\ \\ \\ n> 1 \n",
        "$$\n",
        "with intial conditions\n",
        "$$\n",
        "t_0 =1, t_1 = 2 \\text{ and } t_2 = 6   \\\n",
        "$$\n",
        "\n",
        "All inhomogenous linear difference equations  of the from \n",
        "$$\n",
        "a_n t_n + a_{n-1} t_{n-1} + a_{n-1} t_{n-2} + \\cdots + a_{n-k} t_{n-k} = b^n p(n)\n",
        "$$\n",
        "with $b$ constant, $p(n)$ polynomial of degree $d$ and $k$ initial condition have a the solution of the from\n",
        "$$\n",
        "(a_n t_n + a_{n-1} t_{n-1} + a_{n-1} t_{n-2} + \\cdots + a_{n-k} t_{n-k}) (t-b)^{d+1} = 0\n",
        "$$\n",
        "In our case\n",
        "$$\n",
        "t_n -  t_{n-1} - t_{n-2} = 3 = 1^n 3n^0\n",
        "$$\n",
        "so $ b=1$ and $d=0$, so we have $\\lambda =1$ with multiplicity $1$\n",
        "$$\n",
        "t_n =  A \\left( \\frac{1 + \\sqrt{5}}{2} \\right)^n  + B \\left(\\frac{1 - \\sqrt{5}}{2} \\right)^n + C 1^n\n",
        "$$\n",
        "we find $A$ $B$ and $C$ with initial conditions\n",
        "$$\n",
        "\\begin{array}{lll}\n",
        "A + B + C &=&  1\\\\\n",
        " A \\left( \\frac{1 + \\sqrt{5}}{2} \\right) + B\\left( \\frac{1 - \\sqrt{5}}{2} \\right) + C  &=&  2 \\\\\n",
        "A \\left( \\frac{1 + \\sqrt{5}}{2} \\right)^2 + B\\left( \\frac{1 - \\sqrt{5}}{2} \\right)^2 + C  &=& 6 \n",
        "\\end{array}\n",
        "$$\n",
        "so\n",
        "$$\n",
        "\\begin{array}{lll}\n",
        "A &=&  2 + \\frac{3}{\\sqrt(5)}\\\\\n",
        "B &=&  2 - \\frac{3}{\\sqrt(5)} \\\\\n",
        "C &=&  -3 \n",
        "\\end{array}\n",
        "$$\n",
        "then\n",
        "$$\n",
        "t_n = T(n)=   \\left(2 + \\frac{3}{\\sqrt(5)}\\right) \\left( \\frac{1 + \\sqrt{5}}{2} \\right)^n  + \\left(2 - \\frac{3}{\\sqrt(5)}\\right) \\left(\\frac{1 - \\sqrt{5}}{2} \\right)^n - 3 =  O\\left( \\left(\\frac{1 + \\sqrt{5}}{2} \\right)^n \\right) = O \\left(1.6180339887499^n \\right)\n",
        "$$\n",
        "That is aproximated with a very relaxed asymptotic bound by\n",
        "$$ t_n = T(n) =  O \\left( 2^n \\right)$$\n",
        "\n",
        "Having into account that  for large $n$´s  the addition is not a elementary instructions because the numbers are very large  and  will take $lg\\ n$ stetps, then running time is\n",
        "$$\n",
        "t_n = T(n)=  O \\left(\\left( \\frac{1 + \\sqrt{5}}{2} \\right)^n\\ lg\\ n  \\right) = O \\left( 1.6180339887499^n\\ lg\\ n \\right)\n",
        "$$\n",
        "aproximated with a very relaxed asymptotic bound by\n",
        "$$\n",
        "t_n = T(n)=  O \\left( 2^n\\ lg\\ n \\right)\n",
        "$$"
      ]
    },
    {
      "cell_type": "markdown",
      "metadata": {
        "id": "CyF9fqPxvQkj"
      },
      "source": [
        "## Number of recursive calls in the Fibonacci recursive algorithm\n",
        "\n",
        "The number of recursive calls in the Fibonacci recursive algorithm \n",
        "\n",
        "```(phyton)\n",
        "def fibR(n):\n",
        "    if n==0 :\n",
        "        return 0\n",
        "    if n==1 :\n",
        "        return 1\n",
        "    return fibR(n-1)+fibR(n-2)\n",
        "```\n",
        "is\n",
        "$$\n",
        "T(n)=  T(n-1) + T(n-2)  + 3 \\ \\ \\ \\ \\ \\ \\ \\text{if}\\ \\ \\ \\ \\ \\ n> 1 \n",
        "$$\n",
        "\n",
        "Changing the notation $T(n) = t_n$ this is an inhomogenous linear difference equation or recurrence relation https://en.wikipedia.org/wiki/Linear_difference_equation\n",
        "$$\n",
        "t_n =  t_{n-1} + t_{n-2} + 3\\ \\ \\ \\ \\ \\ \\ \\text{if}\\ \\ \\ \\ \\ \\ n> 1 \n",
        "$$\n",
        "with intial conditions\n",
        "$$\n",
        "t_0 =1, t_1 = 2 \\text{ and } t_2 = 6   \\\n",
        "$$\n",
        "\n",
        "All inhomogenous linear difference equations  of the from \n",
        "$$\n",
        "a_n t_n + a_{n-1} t_{n-1} + a_{n-1} t_{n-2} + \\cdots + a_{n-k} t_{n-k} = b^n p(n)\n",
        "$$\n",
        "with $b$ constant, $p(n)$ polynomial of degree $d$ and $k$ initial condition have a the solution of the from\n",
        "$$\n",
        "(a_n t_n + a_{n-1} t_{n-1} + a_{n-1} t_{n-2} + \\cdots + a_{n-k} t_{n-k}) (t-b)^{d+1} = 0\n",
        "$$\n",
        "In our case\n",
        "$$\n",
        "t_n -  t_{n-1} - t_{n-2} = 1 = 1^n 3 n^0\n",
        "$$\n",
        "so $ b=1$ and $d=0$, so we have $\\lambda =1$ with multiplicity $1$\n",
        "$$\n",
        "t_n =  A \\left( \\frac{1 + \\sqrt{5}}{2} \\right)^n  + B \\left(\\frac{1 - \\sqrt{5}}{2} \\right)^n + C 1^n\n",
        "$$\n",
        "we find $A$ $B$ and $C$ with initial conditions\n",
        "$$\n",
        "\\begin{array}{lll}\n",
        "A + B + C &=&  1\\\\\n",
        " A \\left( \\frac{1 + \\sqrt{5}}{2} \\right) + B\\left( \\frac{1 - \\sqrt{5}}{2} \\right) + C  &=&  2 \\\\\n",
        "A \\left( \\frac{1 + \\sqrt{5}}{2} \\right)^2 + B\\left( \\frac{1 - \\sqrt{5}}{2} \\right)^2 + C  &=& 6 \n",
        "\\end{array}\n",
        "$$\n",
        "so\n",
        "$$\n",
        "\\begin{array}{lll}\n",
        "A &=&  2 + \\frac{3}{\\sqrt(5)}\\\\\n",
        "B &=&  2 - \\frac{51}{\\sqrt(5)} \\\\\n",
        "C &=&  -3 \n",
        "\\end{array}\n",
        "$$\n",
        "then\n",
        "$$\n",
        "t_n = T(n)=   \\left(2 + \\frac{3}{\\sqrt(5)}\\right) \\left( \\frac{1+ \\sqrt{5}}{2} \\right)^n  + \\left(2 - \\frac{3}{\\sqrt(5)}\\right) \\left(\\frac{1 - \\sqrt{5}}{2} \\right)^n - 3 =  O\\left( \\left(\\frac{1 + \\sqrt{5}}{2} \\right)^n \\right) = O \\left(1.6180339887499^n \\right)\n",
        "$$\n",
        "That is aproximated with a very relaxed asymptotic bound by\n",
        "$$ t_n = T(n) =  O \\left( 2^n \\right)$$\n"
      ]
    },
    {
      "cell_type": "code",
      "source": [
        "# Counting recursive calls\n",
        "\n",
        "# fibR - Fibonacci Recursive O( ( (1+sqrt(5)/2 )^n lg n ) [Relaxed asymptotic bound O(2^n lg n)] \n",
        "def fibR_steps(n):\n",
        "  def fibR(n):\n",
        "      global steps\n",
        "      steps +=1\n",
        "      if n==0 :\n",
        "          return 0\n",
        "      steps +=1    \n",
        "      if n==1 :\n",
        "          return 1\n",
        "          \n",
        "      steps +=1\n",
        "      return fibR(n-1)+fibR(n-2)    # for large n´s  the addition will take lg n stetp because the numebers are very large\n",
        "  global steps\n",
        "  steps = 0\n",
        "  fibR(n)\n",
        "  return steps"
      ],
      "metadata": {
        "id": "EtqjPNffhKoE"
      },
      "execution_count": null,
      "outputs": []
    },
    {
      "cell_type": "code",
      "source": [
        "print (fibR_steps(0))\n",
        "print (fibR_steps(1))\n",
        "print (fibR_steps(2))\n",
        "print (fibR_steps(3))\n",
        "print (fibR_steps(4))\n",
        "print (fibR_steps(5))\n",
        "print (fibR_steps(6))\n",
        "print (fibR_steps(7))"
      ],
      "metadata": {
        "colab": {
          "base_uri": "https://localhost:8080/"
        },
        "id": "BVQAG_qJhAij",
        "outputId": "60668642-8bdd-4c16-c735-f829aefda4e7"
      },
      "execution_count": null,
      "outputs": [
        {
          "output_type": "stream",
          "name": "stdout",
          "text": [
            "1\n",
            "2\n",
            "6\n",
            "11\n",
            "20\n",
            "34\n",
            "57\n",
            "94\n"
          ]
        }
      ]
    },
    {
      "cell_type": "markdown",
      "source": [
        "[Fibonacci Spreadsheet](https://github.com/gjhernandezp/algorithms/blob/master/AnalysisOfAlgorithms/fib.csv)"
      ],
      "metadata": {
        "id": "KZaoV3Ahj6oK"
      }
    },
    {
      "cell_type": "markdown",
      "metadata": {
        "id": "YubnxTUgjqey"
      },
      "source": [
        "# Fibonacci iterartive algoritm (forward) $O(n\\ lgn)$"
      ]
    },
    {
      "cell_type": "code",
      "metadata": {
        "id": "xvN0wMin9HOI"
      },
      "source": [
        "# fibI - Fibonacci Iterartive (forward) O(n lgn)\n",
        "def fibI(n):\n",
        "    if n==0 :\n",
        "        return 0\n",
        "    a, b = 0, 1\n",
        "    for i in range(1, n):\n",
        "        a, b = b, a+b\n",
        "    return b"
      ],
      "execution_count": null,
      "outputs": []
    },
    {
      "cell_type": "code",
      "metadata": {
        "colab": {
          "base_uri": "https://localhost:8080/"
        },
        "id": "_YV_OnXxQieU",
        "outputId": "88a277c7-1d9e-464d-d9ce-dd11f85ec885"
      },
      "source": [
        "fibI(46)"
      ],
      "execution_count": null,
      "outputs": [
        {
          "output_type": "execute_result",
          "data": {
            "text/plain": [
              "1836311903"
            ]
          },
          "metadata": {},
          "execution_count": 23
        }
      ]
    },
    {
      "cell_type": "code",
      "metadata": {
        "colab": {
          "base_uri": "https://localhost:8080/"
        },
        "id": "kew3R2XEu3aL",
        "outputId": "004e516a-bbba-4f18-ba0d-7c55b2e28900"
      },
      "source": [
        "fibI(100)"
      ],
      "execution_count": null,
      "outputs": [
        {
          "output_type": "execute_result",
          "data": {
            "text/plain": [
              "354224848179261915075"
            ]
          },
          "metadata": {},
          "execution_count": 24
        }
      ]
    },
    {
      "cell_type": "code",
      "metadata": {
        "colab": {
          "base_uri": "https://localhost:8080/"
        },
        "id": "tnL26tKbQz5N",
        "outputId": "29213176-9e73-4045-c3a4-6cfb19af56f8"
      },
      "source": [
        "fibI(104)"
      ],
      "execution_count": null,
      "outputs": [
        {
          "output_type": "execute_result",
          "data": {
            "text/plain": [
              "2427893228399975082453"
            ]
          },
          "metadata": {},
          "execution_count": 25
        }
      ]
    },
    {
      "cell_type": "code",
      "metadata": {
        "colab": {
          "base_uri": "https://localhost:8080/"
        },
        "id": "-n-jwJhnQ2nj",
        "outputId": "d1c80618-a693-42f4-db1c-4b8c09cbdcca"
      },
      "source": [
        "fibI(103)"
      ],
      "execution_count": null,
      "outputs": [
        {
          "output_type": "execute_result",
          "data": {
            "text/plain": [
              "1500520536206896083277"
            ]
          },
          "metadata": {},
          "execution_count": 26
        }
      ]
    },
    {
      "cell_type": "code",
      "metadata": {
        "colab": {
          "base_uri": "https://localhost:8080/"
        },
        "id": "hnJ30JXrQ7UD",
        "outputId": "b236940e-38f7-4417-ec7f-6f954f120649"
      },
      "source": [
        "fibI(105)"
      ],
      "execution_count": null,
      "outputs": [
        {
          "output_type": "execute_result",
          "data": {
            "text/plain": [
              "3928413764606871165730"
            ]
          },
          "metadata": {},
          "execution_count": 27
        }
      ]
    },
    {
      "cell_type": "code",
      "metadata": {
        "colab": {
          "base_uri": "https://localhost:8080/"
        },
        "id": "sPe-LNOmRV3t",
        "outputId": "16e659df-20a3-4114-a84c-cc6ef918433f"
      },
      "source": [
        "math.log10(fibI(100))"
      ],
      "execution_count": null,
      "outputs": [
        {
          "output_type": "execute_result",
          "data": {
            "text/plain": [
              "20.549279022829865"
            ]
          },
          "metadata": {},
          "execution_count": 28
        }
      ]
    },
    {
      "cell_type": "code",
      "metadata": {
        "colab": {
          "base_uri": "https://localhost:8080/"
        },
        "id": "B_CYmIdM9NiG",
        "outputId": "13833bbb-da5f-4d54-c4c4-8de6f352fb81"
      },
      "source": [
        "from time import process_time\n",
        "n=10\n",
        "t0 = process_time()\n",
        "k = fibI(n)\n",
        "tf =process_time()\n",
        "print(\"n=\",n,\"fib(\",n,\")=\",k,\"time\",tf - t0, \"seconds process time\")"
      ],
      "execution_count": null,
      "outputs": [
        {
          "output_type": "stream",
          "name": "stdout",
          "text": [
            "n= 10 fib( 10 )= 55 time 8.678699998654338e-05 seconds process time\n"
          ]
        }
      ]
    },
    {
      "cell_type": "code",
      "metadata": {
        "colab": {
          "base_uri": "https://localhost:8080/"
        },
        "id": "jZ-Nfx73_tGV",
        "outputId": "db4f00ee-6fdd-45d7-f1ba-534d556d675e"
      },
      "source": [
        "from time import process_time\n",
        "n=100\n",
        "t0 = process_time()\n",
        "k = fibI(n)\n",
        "tf =process_time()\n",
        "print(\"n=\",n,\"fib(\",n,\")=\",k,\"time\",tf - t0, \"seconds process time\")"
      ],
      "execution_count": null,
      "outputs": [
        {
          "output_type": "stream",
          "name": "stdout",
          "text": [
            "n= 100 fib( 100 )= 354224848179261915075 time 8.898699991277681e-05 seconds process time\n"
          ]
        }
      ]
    },
    {
      "cell_type": "code",
      "metadata": {
        "colab": {
          "base_uri": "https://localhost:8080/"
        },
        "id": "3jE6xoo2_wgF",
        "outputId": "fdd10edf-b581-4bf9-af58-217f6c7d9f39"
      },
      "source": [
        "from time import process_time\n",
        "n=1000\n",
        "t0 = process_time()\n",
        "k =fibI(n)\n",
        "tf =process_time()\n",
        "print(\"n=\",n,\"fib(\",n,\")=\",k,\"time\",tf - t0, \"seconds process time\")"
      ],
      "execution_count": null,
      "outputs": [
        {
          "output_type": "stream",
          "name": "stdout",
          "text": [
            "n= 1000 fib( 1000 )= 43466557686937456435688527675040625802564660517371780402481729089536555417949051890403879840079255169295922593080322634775209689623239873322471161642996440906533187938298969649928516003704476137795166849228875 time 0.0002606949999517383 seconds process time\n"
          ]
        }
      ]
    },
    {
      "cell_type": "code",
      "metadata": {
        "colab": {
          "base_uri": "https://localhost:8080/"
        },
        "id": "MC3OE5nGT1XP",
        "outputId": "ce790546-053f-4228-fecc-775b75095395"
      },
      "source": [
        "from time import process_time\n",
        "n=1001\n",
        "t0 = process_time()\n",
        "k =fibI(n)\n",
        "tf =process_time()\n",
        "print(\"n=\",n,\"fib(\",n,\")=\",k,\"time\",tf - t0, \"seconds process time\")"
      ],
      "execution_count": null,
      "outputs": [
        {
          "output_type": "stream",
          "name": "stdout",
          "text": [
            "n= 1001 fib( 1001 )= 70330367711422815821835254877183549770181269836358732742604905087154537118196933579742249494562611733487750449241765991088186363265450223647106012053374121273867339111198139373125598767690091902245245323403501 time 0.00022048899995752436 seconds process time\n"
          ]
        }
      ]
    },
    {
      "cell_type": "code",
      "metadata": {
        "colab": {
          "base_uri": "https://localhost:8080/"
        },
        "id": "0bkmZtweT6M3",
        "outputId": "f5f47aae-1601-4195-ed61-2bb7154a897d"
      },
      "source": [
        "from time import process_time\n",
        "n=1002\n",
        "t0 = process_time()\n",
        "k =fibI(n)\n",
        "tf =process_time()\n",
        "print(\"n=\",n,\"fib(\",n,\")=\",k,\"time\",tf - t0, \"seconds process time\")"
      ],
      "execution_count": null,
      "outputs": [
        {
          "output_type": "stream",
          "name": "stdout",
          "text": [
            "n= 1002 fib( 1002 )= 113796925398360272257523782552224175572745930353730513145086634176691092536145985470146129334641866902783673042322088625863396052888690096969577173696370562180400527049497109023054114771394568040040412172632376 time 0.00022722900007465796 seconds process time\n"
          ]
        }
      ]
    },
    {
      "cell_type": "markdown",
      "metadata": {
        "id": "1zWAZdcikD1V"
      },
      "source": [
        "# Fibonacci memoization (dynamic programming)  algoritm  (backward) $O(n\\ lgn)$"
      ]
    },
    {
      "cell_type": "code",
      "metadata": {
        "id": "XDct88yn74Lu"
      },
      "source": [
        "# fibI - Fibonacci Memoization (dynamic programming) (backward) O(n lg n)\n",
        "\n",
        "def fibM(n):\n",
        "    memo = {}\n",
        "    def fib(n):\n",
        "        if n==0 :\n",
        "            return 0\n",
        "        if n==1 :\n",
        "            return 1\n",
        "        if (n-2) not in memo:\n",
        "            memo[n-2] = fib(n-2)\n",
        "        if (n-1) not in memo:\n",
        "            memo[n-1] = fib(n-1)\n",
        "        return memo[n-1] + memo[n-2]\n",
        "    return fib(n)"
      ],
      "execution_count": null,
      "outputs": []
    },
    {
      "cell_type": "code",
      "metadata": {
        "colab": {
          "base_uri": "https://localhost:8080/"
        },
        "id": "IPG-IF2-79_s",
        "outputId": "68e6bdd0-df2f-4c00-ac8f-f788f2432742"
      },
      "source": [
        "from time import process_time\n",
        "n=10\n",
        "t0 = process_time()\n",
        "k = fibM(n)\n",
        "tf =process_time()\n",
        "print(\"n=\",n,\"fib(\",n,\")=\",k,\"time\",tf - t0, \"seconds process time\")"
      ],
      "execution_count": null,
      "outputs": [
        {
          "output_type": "stream",
          "name": "stdout",
          "text": [
            "n= 10 fib( 10 )= 55 time 9.557199996379495e-05 seconds process time\n"
          ]
        }
      ]
    },
    {
      "cell_type": "code",
      "metadata": {
        "colab": {
          "base_uri": "https://localhost:8080/"
        },
        "id": "NDZ1mxQPAjiY",
        "outputId": "e7de8b08-c619-4565-8cbe-e9d94f98d67c"
      },
      "source": [
        "from time import process_time\n",
        "n=100\n",
        "t0 = process_time()\n",
        "k = fibM(n)\n",
        "tf =process_time()\n",
        "print(\"n=\",n,\"fib(\",n,\")=\",k,\"time\",tf - t0, \"seconds process time\")"
      ],
      "execution_count": null,
      "outputs": [
        {
          "output_type": "stream",
          "name": "stdout",
          "text": [
            "n= 100 fib( 100 )= 354224848179261915075 time 0.0002362200000334269 seconds process time\n"
          ]
        }
      ]
    },
    {
      "cell_type": "code",
      "metadata": {
        "colab": {
          "base_uri": "https://localhost:8080/"
        },
        "id": "xC6tLnv1AlQD",
        "outputId": "53218d78-49ae-4b29-c691-62cdbff90668"
      },
      "source": [
        "from time import process_time\n",
        "n=1000\n",
        "t0 = process_time()\n",
        "k = fibM(n)\n",
        "tf =process_time()\n",
        "print(\"n=\",n,\"fib(\",n,\")=\",k,\"time\",tf - t0, \"seconds process time\")"
      ],
      "execution_count": null,
      "outputs": [
        {
          "output_type": "stream",
          "name": "stdout",
          "text": [
            "n= 1000 fib( 1000 )= 43466557686937456435688527675040625802564660517371780402481729089536555417949051890403879840079255169295922593080322634775209689623239873322471161642996440906533187938298969649928516003704476137795166849228875 time 0.0021505600000182312 seconds process time\n"
          ]
        }
      ]
    },
    {
      "cell_type": "code",
      "metadata": {
        "id": "UgCSkL3-0u2Y",
        "colab": {
          "base_uri": "https://localhost:8080/"
        },
        "outputId": "50036209-9bb2-4da5-e05a-2b84348f49c4"
      },
      "source": [
        "from time import process_time\n",
        "n=10\n",
        "t0 = process_time()\n",
        "k = fibA(n)\n",
        "tf =process_time()\n",
        "print(\"n=\",n,\"fib(\",n,\")=\",k,\"time\",tf - t0, \"seconds process time\")"
      ],
      "execution_count": null,
      "outputs": [
        {
          "output_type": "stream",
          "name": "stdout",
          "text": [
            "n= 10 fib( 10 )= 55.00000000000002 time 8.867799999734416e-05 seconds process time\n"
          ]
        }
      ]
    },
    {
      "cell_type": "code",
      "metadata": {
        "colab": {
          "base_uri": "https://localhost:8080/"
        },
        "id": "bNJhztlfIcNT",
        "outputId": "0c3570e7-3abd-4aff-9d4a-e3d6f3fe58ce"
      },
      "source": [
        "from time import process_time\n",
        "n=100\n",
        "t0 = process_time()\n",
        "k = fibA(n)\n",
        "tf =process_time()\n",
        "print(\"n=\",n,\"fib(\",n,\")=\",k,\"time\",tf - t0, \"seconds process time\")"
      ],
      "execution_count": null,
      "outputs": [
        {
          "output_type": "stream",
          "name": "stdout",
          "text": [
            "n= 100 fib( 100 )= 3.542248481792631e+20 time 8.68580000314978e-05 seconds process time\n"
          ]
        }
      ]
    },
    {
      "cell_type": "code",
      "metadata": {
        "colab": {
          "base_uri": "https://localhost:8080/"
        },
        "id": "DWNNTiw4HceL",
        "outputId": "ce4493a3-c4a9-4857-9bee-d9c0f66ae91f"
      },
      "source": [
        "from time import process_time\n",
        "n=1000\n",
        "t0 = process_time()\n",
        "k = fibA(n)\n",
        "tf =process_time()\n",
        "print(\"n=\",n,\"fib(\",n,\")=\",k,\"time\",tf - t0, \"seconds process time\")"
      ],
      "execution_count": null,
      "outputs": [
        {
          "output_type": "stream",
          "name": "stdout",
          "text": [
            "n= 1000 fib( 1000 )= 4.3466557686938915e+208 time 0.00013365999996040046 seconds process time\n"
          ]
        }
      ]
    },
    {
      "cell_type": "markdown",
      "metadata": {
        "id": "yxLkXgpNkPrS"
      },
      "source": [
        "# Fibonacci  binary exponentiation matrix algorithm $O(lg^2 n) $"
      ]
    },
    {
      "cell_type": "markdown",
      "metadata": {
        "id": "O9sNNaXwIBWl"
      },
      "source": [
        "The Fibonacci Q-matrix | Lecture 6 | Fibonacci Numbers and the Golden Ratio https://youtu.be/lTHVwsHJrG0\n",
        "\n",
        "Exercise 0.4. Dasgupta S., Papadimitriou C., Vazirani U. , “Algorithms” , McGraw Hill, 2007.\n",
        "\n",
        "Fast matrix solution https://stackoverflow.com/a/40117659\n",
        "\n",
        "This is a superfast solution refer to https://stackoverflow.com/a/23462371/3700852\n",
        "\n",
        "You can read some more about involved math here https://en.wikipedia.org/wiki/Fibonacci_number#Matrix_form\n",
        "\n",
        "Efficient calculation of Fibonacci series https://stackoverflow.com/questions/18172257/efficient-calculation-of-fibonacci-series\n",
        "\n",
        "Python: Compute a Huge Fibonacci Number Modulo m https://stackoverflow.com/questions/40096097/python-compute-a-huge-fibonacci-number-modulo-m#:~:text=Pisano%20periods%20follows%20a%20Fibonacci,in%20finding%20the%20Pisano%20period.\n",
        "\n",
        "Binary Exponentiation https://cp-algorithms.com/algebra/binary-exp.html\n",
        "\n",
        "Exponentiation by squaring https://en.wikipedia.org/wiki/Exponentiation_by_squaring "
      ]
    },
    {
      "cell_type": "code",
      "metadata": {
        "id": "VcNX7LjMICLz"
      },
      "source": [
        "# Fibonacci fast matrix O(lg^2 n) - https://stackoverflow.com/a/40117659  \n",
        "\n",
        "def fib_fast_matrix(n):\n",
        "\n",
        "    if n==0: return 0\n",
        "\n",
        "    # Initialize a matrix [[1,1],[1,0]]    \n",
        "    v1, v2, v3 = 1, 1, 0  \n",
        "    # Perform fast exponentiation of the matrix (quickly raise it to the nth power)\n",
        "    for rec in bin(n)[3:]:\n",
        "        calc = (v2*v2) \n",
        "        v1, v2, v3 = (v1*v1+calc) , ((v1+v3)*v2) , (calc+v3*v3) \n",
        "        if rec == '1': v1, v2, v3 = (v1+v2), v1, v2\n",
        "    return v2;    "
      ],
      "execution_count": null,
      "outputs": []
    },
    {
      "cell_type": "code",
      "metadata": {
        "colab": {
          "base_uri": "https://localhost:8080/"
        },
        "id": "6ONxPvSdI9mr",
        "outputId": "b5db99f8-0f9c-4dd2-ab46-8acb3a177b87"
      },
      "source": [
        " for n in range(0, 20):\n",
        "   print(fib_fast_matrix(n))"
      ],
      "execution_count": null,
      "outputs": [
        {
          "output_type": "stream",
          "name": "stdout",
          "text": [
            "0\n",
            "1\n",
            "1\n",
            "2\n",
            "3\n",
            "5\n",
            "8\n",
            "13\n",
            "21\n",
            "34\n",
            "55\n",
            "89\n",
            "144\n",
            "233\n",
            "377\n",
            "610\n",
            "987\n",
            "1597\n",
            "2584\n",
            "4181\n"
          ]
        }
      ]
    },
    {
      "cell_type": "code",
      "metadata": {
        "colab": {
          "base_uri": "https://localhost:8080/"
        },
        "id": "xij3BFA0H3sM",
        "outputId": "50978377-1448-4478-f6aa-c52d4ba1802c"
      },
      "source": [
        "from time import process_time\n",
        "n=10\n",
        "t0 = process_time()\n",
        "k = fib_fast_matrix(n)\n",
        "tf =process_time()\n",
        "print(\"n=\",n,\"fib(\",n,\")=\",k,\"time\",tf - t0, \"seconds process time\")"
      ],
      "execution_count": null,
      "outputs": [
        {
          "output_type": "stream",
          "name": "stdout",
          "text": [
            "n= 10 fib( 10 )= 55 time 8.238399993842904e-05 seconds process time\n"
          ]
        }
      ]
    },
    {
      "cell_type": "code",
      "metadata": {
        "colab": {
          "base_uri": "https://localhost:8080/"
        },
        "id": "9G6c4AX_KcAS",
        "outputId": "0ecffeaf-a442-4954-d5b9-172ebbdcfd45"
      },
      "source": [
        "from time import process_time\n",
        "n=100\n",
        "t0 = process_time()\n",
        "k = fib_fast_matrix(n)\n",
        "tf =process_time()\n",
        "print(\"n=\",n,\"fib(\",n,\")=\",k,\"time\",tf - t0, \"seconds process time\")"
      ],
      "execution_count": null,
      "outputs": [
        {
          "output_type": "stream",
          "name": "stdout",
          "text": [
            "n= 100 fib( 100 )= 354224848179261915075 time 0.00015782699995270377 seconds process time\n"
          ]
        }
      ]
    },
    {
      "cell_type": "code",
      "metadata": {
        "colab": {
          "base_uri": "https://localhost:8080/"
        },
        "id": "rkJvGhmQKe45",
        "outputId": "a289d306-d1be-477c-a297-a7aa805ed128"
      },
      "source": [
        "from time import process_time\n",
        "n=1000\n",
        "t0 = process_time()\n",
        "k = fib_fast_matrix(n)\n",
        "tf =process_time()\n",
        "print(\"n=\",n,\"fib(\",n,\")=\",k,\"time\",tf - t0, \"seconds process time\")"
      ],
      "execution_count": null,
      "outputs": [
        {
          "output_type": "stream",
          "name": "stdout",
          "text": [
            "n= 1000 fib( 1000 )= 43466557686937456435688527675040625802564660517371780402481729089536555417949051890403879840079255169295922593080322634775209689623239873322471161642996440906533187938298969649928516003704476137795166849228875 time 0.00013816000000588247 seconds process time\n"
          ]
        }
      ]
    },
    {
      "cell_type": "code",
      "metadata": {
        "id": "bOzN2bmAmv76"
      },
      "source": [
        "from time import process_time\n",
        "n=100000\n",
        "m=10\n",
        "t0 = process_time()\n",
        "k = fib_fast_matrix(n)\n",
        "tf =process_time()\n",
        "print(\"n=\",n,\"fib(\",n,\")=\",k,\"time\",tf - t0, \"seconds process time\")"
      ],
      "execution_count": null,
      "outputs": []
    },
    {
      "cell_type": "markdown",
      "metadata": {
        "id": "AJfON0LwHkTF"
      },
      "source": [
        "## Fibonacci $\\mod m$ and Pisano periods\n",
        "\n",
        "To know about Fibonacci $\\mod m$ and Pisano periods, I recommend that you watch this video: Fibonacci Mystery - Numberphile https://www.youtube.com/watch?v=Nu-lW-Ifyec\n",
        "\n"
      ]
    },
    {
      "cell_type": "markdown",
      "metadata": {
        "id": "gvFXy7DaHwcR"
      },
      "source": [
        "### Pisano period https://en.wikipedia.org/wiki/Pisano_period\n",
        "\n",
        "In number theory, the nth Pisano period, written π(n), is the period with which the sequence of Fibonacci numbers taken modulo n repeats. Pisano periods are named after Leonardo Pisano, better known as Fibonacci. The existence of periodic functions in Fibonacci numbers was noted by Joseph Louis Lagrange in 1774."
      ]
    },
    {
      "cell_type": "markdown",
      "metadata": {
        "id": "7I8lHMWDIKpZ"
      },
      "source": [
        "### Pisano period https://mathworld.wolfram.com/PisanoPeriod.html\n",
        "The sequence of Fibonacci numbers $\\{F_n\\}$ is periodic modulo any modulus $m$ (Wall 1960), and the period ($\\mod m$) is the known as the Pisano period $\\pi(m)$ (Wrench 1969). For m=1, 2, ..., the values of $\\pi(m)$ are $1, 3, 8, 6, 20, 24, 16, 12, 24, 60, 10, ...$ (OEIS A001175).\n",
        "\n",
        "Since $\\pi(10)=60$, the last digit of $F_n$ repeats with period $60$, as first noted by Lagrange in 1774 (Livio 2002, p. 105). The last two digits repeat with a period of $300$, and the last three with a period of $1500$. In 1963, Geller found that the last four digits have a period of 15000 and the last five a period of $150000$. Jarden subsequently showed that for $d>=3$, the last d digits have a period of $15·10^{(d-1)}$ (Livio 2002, pp. 105-106). The sequence of Pisano periods for $n=1, 10, 100, 1000, ...$ are therefore $60, 300, 1500, 15000, 150000, 1500000, ...$ (OEIS A096363).\n"
      ]
    },
    {
      "cell_type": "markdown",
      "metadata": {
        "id": "hgcrw9veJSx9"
      },
      "source": [
        "Python: Compute a Huge Fibonacci Number Modulo m https://stackoverflow.com/questions/40096097/python-compute-a-huge-fibonacci-number-modulo-m#:~:text=Pisano%20periods%20follows%20a%20Fibonacci,in%20finding%20the%20Pisano%20period.\n",
        "\n",
        "https://stackoverflow.com/a/51874771\n",
        "\n",
        "In the below code we are using two concepts of Fibonacci series:\n",
        "\n",
        "1. Pisano periods follows a Fibonacci sequence and hence each repetition(pattern) begins with 0 and 1 appearing consecutively one after the other.\n",
        "\n",
        "2. fib(n) divides fib(m) only when n divides m which means if fib(4)%3==0,then fib(4+4)%3==0,fib(4+4+4)%3==0 and so on.This helps us in finding the Pisano period.\n",
        "\n"
      ]
    },
    {
      "cell_type": "markdown",
      "metadata": {
        "id": "ejGRtbnblTcy"
      },
      "source": [
        "## Fibonacci $\\mod m$ binary exponentiation matrix algorithm   $O(lg\\ n)$\n",
        "\n"
      ]
    },
    {
      "cell_type": "code",
      "metadata": {
        "id": "Ut-xhYfYB7pV"
      },
      "source": [
        "# Fibonacci module fast matrix O(lg n) - https://stackoverflow.com/a/40117659  \n",
        "\n",
        "def Huge_Fib_Mod(n,m):\n",
        "\n",
        "    if n==0: return 0\n",
        "\n",
        "    # Initialize a matrix [[1,1],[1,0]]    \n",
        "    v1, v2, v3 = 1, 1, 0  \n",
        "    # Perform fast exponentiation of the matrix (quickly raise it to the nth power)\n",
        "    for rec in bin(n)[3:]:\n",
        "        calc = (v2*v2) % m\n",
        "        v1, v2, v3 = (v1*v1+calc)% m , ((v1+v3)*v2) % m, (calc+v3*v3) % m\n",
        "        if rec == '1': v1, v2, v3 = (v1+v2)% m, v1, v2\n",
        "    return v2;  "
      ],
      "execution_count": null,
      "outputs": []
    },
    {
      "cell_type": "code",
      "metadata": {
        "colab": {
          "base_uri": "https://localhost:8080/"
        },
        "id": "kkH0yEV_npaL",
        "outputId": "179161c6-b774-49c7-b384-4cce5d3631c4"
      },
      "source": [
        "m=10\n",
        "for n in range(0,65):\n",
        "   print(n,\" \",Huge_Fib_Mod(n,m))"
      ],
      "execution_count": null,
      "outputs": [
        {
          "output_type": "stream",
          "name": "stdout",
          "text": [
            "0   0\n",
            "1   1\n",
            "2   1\n",
            "3   2\n",
            "4   3\n",
            "5   5\n",
            "6   8\n",
            "7   3\n",
            "8   1\n",
            "9   4\n",
            "10   5\n",
            "11   9\n",
            "12   4\n",
            "13   3\n",
            "14   7\n",
            "15   0\n",
            "16   7\n",
            "17   7\n",
            "18   4\n",
            "19   1\n",
            "20   5\n",
            "21   6\n",
            "22   1\n",
            "23   7\n",
            "24   8\n",
            "25   5\n",
            "26   3\n",
            "27   8\n",
            "28   1\n",
            "29   9\n",
            "30   0\n",
            "31   9\n",
            "32   9\n",
            "33   8\n",
            "34   7\n",
            "35   5\n",
            "36   2\n",
            "37   7\n",
            "38   9\n",
            "39   6\n",
            "40   5\n",
            "41   1\n",
            "42   6\n",
            "43   7\n",
            "44   3\n",
            "45   0\n",
            "46   3\n",
            "47   3\n",
            "48   6\n",
            "49   9\n",
            "50   5\n",
            "51   4\n",
            "52   9\n",
            "53   3\n",
            "54   2\n",
            "55   5\n",
            "56   7\n",
            "57   2\n",
            "58   9\n",
            "59   1\n",
            "60   0\n",
            "61   1\n",
            "62   1\n",
            "63   2\n",
            "64   3\n"
          ]
        }
      ]
    },
    {
      "cell_type": "code",
      "metadata": {
        "colab": {
          "base_uri": "https://localhost:8080/"
        },
        "id": "jGCOk0ZmMhz3",
        "outputId": "6c9ba49c-3f30-4a4a-d2f2-1c1b5f80677f"
      },
      "source": [
        "import sys\n",
        "\n",
        "def fibmod(n,m): \n",
        "    if n <= 1:\n",
        "        return n\n",
        "\n",
        "    previous = 0\n",
        "    current  = 1\n",
        "\n",
        "    for _ in range(n - 1):\n",
        "        previous, current = current, (previous + current) % m\n",
        "    \n",
        "    return current\n",
        "\n",
        "# Pisano periods https://stackoverflow.com/a/51874771\n",
        "# 1. Pisano periods follows  follows a Fibonacci sequence and hence each repetition(pattern) \n",
        "#    begins with 0 and 1 appearing consecutively one after the other.\n",
        "# 2. fib(n) divides fib(m) only when n divides m which means if fib(4)%3==0,\n",
        "#    then fib(4+4)%3==0,fib(4+4+4)%3==0 and so on.This helps us in finding the Pisano period.\n",
        "def pisano_period(m):\n",
        "    i=2\n",
        "    while(fibmod(i,m)!=0):\n",
        "        i+=1\n",
        "    if(fibmod(i+1,m)!=1):\n",
        "        while(fibmod(i+1,m)!=1):\n",
        "            i+=i\n",
        "    return i\n",
        "\n",
        "def get_fibonacci_huge_pissano(n, m):\n",
        "   \n",
        "    n = n % pisano_period(m) \n",
        "\n",
        "    return fibmod(n,m)\n",
        "\n",
        "if __name__ == '__main__':\n",
        "    n, m = map(int, input().split())\n",
        "    print(get_fibonacci_huge_pissano(n, m))"
      ],
      "execution_count": null,
      "outputs": [
        {
          "output_type": "stream",
          "name": "stdout",
          "text": [
            "3 4\n",
            "2\n"
          ]
        }
      ]
    },
    {
      "cell_type": "code",
      "metadata": {
        "colab": {
          "base_uri": "https://localhost:8080/"
        },
        "id": "x3VuzoHbOlQJ",
        "outputId": "de2fe182-02e1-433c-b528-01633c234cc9"
      },
      "source": [
        "if __name__ == '__main__':\n",
        "    n, m = map(int, input().split())\n",
        "    print(get_fibonacci_huge_pissano(n, m))"
      ],
      "execution_count": null,
      "outputs": [
        {
          "output_type": "stream",
          "name": "stdout",
          "text": [
            "6 5\n",
            "3\n"
          ]
        }
      ]
    },
    {
      "cell_type": "code",
      "metadata": {
        "colab": {
          "base_uri": "https://localhost:8080/"
        },
        "id": "ezy79R8OOxUw",
        "outputId": "c574f884-99c8-4d19-ff94-dd2a8e401d56"
      },
      "source": [
        "if __name__ == '__main__':\n",
        "    n, m = map(int, input().split())\n",
        "    print(get_fibonacci_huge_pissano(n, m))"
      ],
      "execution_count": null,
      "outputs": [
        {
          "output_type": "stream",
          "name": "stdout",
          "text": [
            "7 34 \n",
            "13\n"
          ]
        }
      ]
    },
    {
      "cell_type": "code",
      "metadata": {
        "colab": {
          "base_uri": "https://localhost:8080/"
        },
        "id": "rXvoqT0XH_oo",
        "outputId": "2968c802-b759-4cd6-bf61-9def14cbbcc0"
      },
      "source": [
        "import sys\n",
        "\n",
        "# Fibonacci module fast matrix O(lg n) - https://stackoverflow.com/a/40117659 \n",
        "def Huge_Fib_Mod(n,m):\n",
        "\n",
        "    if n==0: return 0\n",
        "\n",
        "    # Initialize a matrix [[1,1],[1,0]]    \n",
        "    v1, v2, v3 = 1, 1, 0  \n",
        "    # Perform fast exponentiation of the matrix (quickly raise it to the nth power)\n",
        "    for rec in bin(n)[3:]:\n",
        "        calc = (v2*v2) % m\n",
        "        v1, v2, v3 = (v1*v1+calc)% m , ((v1+v3)*v2) % m, (calc+v3*v3) % m\n",
        "        if rec == '1': v1, v2, v3 = (v1+v2)% m, v1, v2\n",
        "    return v2;  \n",
        "\n",
        "# Pisano periods https://stackoverflow.com/a/51874771\n",
        "# 1. Pisano periods follows  follows a Fibonacci sequence and hence each repetition(pattern) \n",
        "#    begins with 0 and 1 appearing consecutively one after the other.\n",
        "# 2. fib(n) divides fib(m) only when n divides m which means if fib(4)%3==0,\n",
        "#    then fib(4+4)%3==0,fib(4+4+4)%3==0 and so on.This helps us in finding the Pisano period.\n",
        "def pisano_period(m):\n",
        "    i=2\n",
        "    while(Huge_Fib_Mod(i,m)!=0):\n",
        "        i+=1\n",
        "    \n",
        "    if(Huge_Fib_Mod(i+1,m)!=1):\n",
        "        while(Huge_Fib_Mod(i+1,m)!=1):\n",
        "            i+=i\n",
        "    return i\n",
        "\n",
        "def get_fibonacci_huge_pissano(n, m):\n",
        "\n",
        "    n = n % pisano_period(m) \n",
        "\n",
        "    return Huge_Fib_Mod(n,m)\n",
        "\n",
        "if __name__ == '__main__':\n",
        "    n, m = map(int, input().split())\n",
        "    print(get_fibonacci_huge_pissano(n, m))"
      ],
      "execution_count": null,
      "outputs": [
        {
          "output_type": "stream",
          "name": "stdout",
          "text": [
            "34 2\n",
            "1\n"
          ]
        }
      ]
    },
    {
      "cell_type": "code",
      "metadata": {
        "id": "zg0YQZXRfBO-"
      },
      "source": [],
      "execution_count": null,
      "outputs": []
    },
    {
      "cell_type": "code",
      "metadata": {
        "colab": {
          "base_uri": "https://localhost:8080/"
        },
        "id": "q7rb88N0O8On",
        "outputId": "76c72df8-1edb-4632-df5f-09b0e7638e76"
      },
      "source": [
        "if __name__ == '__main__':\n",
        "    n, m = map(int, input().split())\n",
        "    print(get_fibonacci_huge_pissano(n, m))"
      ],
      "execution_count": null,
      "outputs": [
        {
          "output_type": "stream",
          "name": "stdout",
          "text": [
            "56 2\n",
            "1\n"
          ]
        }
      ]
    },
    {
      "cell_type": "code",
      "metadata": {
        "colab": {
          "base_uri": "https://localhost:8080/"
        },
        "id": "miEkyv-sO_9f",
        "outputId": "9e30d5f4-ba07-45a6-cbb3-a4aa76c1b215"
      },
      "source": [
        "if __name__ == '__main__':\n",
        "    n, m = map(int, input().split())\n",
        "    print(get_fibonacci_huge_pissano(n, m))"
      ],
      "execution_count": null,
      "outputs": [
        {
          "output_type": "stream",
          "name": "stdout",
          "text": [
            "64 23\n",
            "21\n"
          ]
        }
      ]
    },
    {
      "cell_type": "markdown",
      "metadata": {
        "id": "9LV_80AxxfeB"
      },
      "source": [
        "## Sum of Fibonacci numbers \n",
        "Sum of Fibonacci numbers | Lecture 9 | Fibonacci Numbers and the Golden Ratio https://youtu.be/Cspq_vvScV8"
      ]
    },
    {
      "cell_type": "markdown",
      "metadata": {
        "id": "aRzEAe_0zUoQ"
      },
      "source": [
        "## Sum of Fibonacci numbers squared \n",
        "Sum of Fibonacci numbers squared | Lecture 10 | Fibonacci Numbers and the Golden Ratio https://youtu.be/ruIwND9ytpE"
      ]
    },
    {
      "cell_type": "markdown",
      "metadata": {
        "id": "Cc6SWWbrRdMU"
      },
      "source": [
        "# Principle of invariance\n",
        "\n",
        "$$T_{RAM}(n) = \\alpha t_{A}(n) = \\beta t_{B}(n) = \\xi t_{C}(n)$$\n",
        "\n",
        "$T_{RAM}(n)$ computational steps in RAM\n",
        "\n",
        "$t_{A}(n)$ running time in $A$\n",
        "\n",
        "$t_{B}(n)$ running time in $B$\n",
        "\n",
        "$t_{C}(n)$ running time in $C$\n",
        "\n",
        "\n",
        "$ T_{RAM}(n)$  is the number of computational steps (simple/elementary RAM oprations) of the algorithm for the worst case input of size $n$.\n",
        "\n",
        "$t_{A}(n), t_{B}$ and $t_{C}$ is the execution time of the algorithm in the corresponding platfrom (processor + memory architecture , operating system, programming language, compiler) for the worst case input of size $n$\n"
      ]
    }
  ]
}